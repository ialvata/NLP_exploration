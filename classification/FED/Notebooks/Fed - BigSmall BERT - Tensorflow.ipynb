{
 "cells": [
  {
   "cell_type": "code",
   "execution_count": 1,
   "id": "c9c605d8",
   "metadata": {},
   "outputs": [],
   "source": [
    "import os\n",
    "import shutil\n",
    "import pandas as pd\n",
    "import numpy as np\n",
    "\n",
    "import tensorflow as tf\n",
    "import tensorflow_hub as hub\n",
    "import tensorflow_text as text\n",
    "\n",
    "from official.nlp import optimization\n",
    "#from sklearn.model_selection import KFold, StratifiedKFold,train_test_split\n",
    "import matplotlib.pyplot as plt\n",
    "\n",
    "tf.get_logger().setLevel('ERROR')"
   ]
  },
  {
   "cell_type": "code",
   "execution_count": 2,
   "id": "a8a50657",
   "metadata": {},
   "outputs": [],
   "source": [
    "tfhub_handle_preprocess=r\"C:\\Users\\iavta\\Natural Language Processing\\BERT\\Preprocessing\\bert_en_uncased_preprocess_3\"\n",
    "bert_preprocess_model = hub.KerasLayer(tfhub_handle_preprocess)\n",
    "tfhub_handle_encoder=r\"C:\\Users\\iavta\\Natural Language Processing\\BERT\\Encoder\\small_bert_bert_en_uncased_L-12_H-768_A-12_2\"\n",
    "bert_model = hub.KerasLayer(tfhub_handle_encoder)"
   ]
  },
  {
   "cell_type": "code",
   "execution_count": 3,
   "id": "24b578d5",
   "metadata": {},
   "outputs": [
    {
     "data": {
      "text/plain": [
       "(855,)"
      ]
     },
     "execution_count": 3,
     "metadata": {},
     "output_type": "execute_result"
    }
   ],
   "source": [
    "path=r\"C:\\Users\\iavta\\Natural Language Processing\\Economics\\FED\\\\\"\n",
    "df_Fed_merged=pd.read_csv(path+\"Data - Clean\\\\\"+\"Fed_merged.csv\")\n",
    "corpus=df_Fed_merged[\"text\"]\n",
    "corpus.shape"
   ]
  },
  {
   "cell_type": "code",
   "execution_count": 4,
   "id": "732ae390",
   "metadata": {},
   "outputs": [
    {
     "data": {
      "text/plain": [
       "(855,)"
      ]
     },
     "execution_count": 4,
     "metadata": {},
     "output_type": "execute_result"
    }
   ],
   "source": [
    "labels=np.asarray(df_Fed_merged[\"Classes\"].astype(\"int\"))\n",
    "labels.shape"
   ]
  },
  {
   "cell_type": "code",
   "execution_count": 5,
   "id": "80e5dfe1",
   "metadata": {},
   "outputs": [],
   "source": [
    "def Time_Validation(corpus,labels,test_size=0.2):\n",
    "       \n",
    "    train_index = list(range(int(len(corpus)-np.floor(test_size*len(corpus))+1)))\n",
    "    \n",
    "    \n",
    "    test_index =list(range(int(len(corpus)-np.floor(test_size*len(corpus))+1),len(corpus)))\n",
    "    \n",
    "    \n",
    "    return corpus[train_index], corpus[test_index],labels[train_index], labels[test_index]"
   ]
  },
  {
   "cell_type": "markdown",
   "id": "098f74cc",
   "metadata": {},
   "source": [
    "# BERT - BigSmall Model - Classification"
   ]
  },
  {
   "cell_type": "code",
   "execution_count": 6,
   "id": "5630d0c6",
   "metadata": {},
   "outputs": [],
   "source": [
    "import seaborn as sns\n",
    "\n",
    "sns.set()\n",
    "\n",
    "def print_plots(history):\n",
    "    history_dict = history.history\n",
    "    #print(history_dict.keys())\n",
    "\n",
    "    acc = history_dict['sparse_categorical_accuracy']\n",
    "    val_acc = history_dict['val_sparse_categorical_accuracy']\n",
    "    loss = history_dict['loss']\n",
    "    val_loss = history_dict['val_loss']\n",
    "\n",
    "    epochs = range(1, len(acc) + 1)\n",
    "    fig = plt.figure(figsize=(10, 6))#,constrained_layout = True)\n",
    "    fig.tight_layout()\n",
    "\n",
    "    plt.subplot(2, 1, 1)\n",
    "    # \"bo\" is for \"blue dot\"\n",
    "    plt.plot(epochs, loss, 'r', label='Training loss')\n",
    "    # b is for \"solid blue line\"\n",
    "    plt.plot(epochs, val_loss, 'b', label='Validation loss')\n",
    "    plt.title('Training and validation loss')\n",
    "    # plt.xlabel('Epochs')\n",
    "    plt.ylabel('Loss')\n",
    "    plt.legend();\n",
    "\n",
    "    plt.subplot(2, 1, 2)\n",
    "    plt.plot(epochs, acc, 'r', label='Training acc')\n",
    "    plt.plot(epochs, val_acc, 'b', label='Validation acc')\n",
    "    plt.title('Training and validation accuracy')\n",
    "    plt.xlabel('Epochs')\n",
    "    plt.ylabel('Accuracy')\n",
    "    plt.legend(loc='lower right')\n",
    "    plt.subplots_adjust(left=0.1,\n",
    "                        bottom=0.1, \n",
    "                        right=0.9, \n",
    "                        top=0.9, \n",
    "                        wspace=0.4, \n",
    "                        hspace=0.4);"
   ]
  },
  {
   "cell_type": "code",
   "execution_count": 7,
   "id": "c6c19dfb",
   "metadata": {},
   "outputs": [],
   "source": [
    "corpus_train, corpus_test, labels_train, labels_test=Time_Validation(corpus,labels)"
   ]
  },
  {
   "cell_type": "code",
   "execution_count": 8,
   "id": "9fc4ebae",
   "metadata": {},
   "outputs": [],
   "source": [
    "def build_classifier_model():\n",
    "    text_input = tf.keras.layers.Input(shape=(), dtype=tf.string, name='sentences')\n",
    "    preprocessing_layer = hub.KerasLayer(tfhub_handle_preprocess, name='preprocessing')\n",
    "    encoder_inputs = preprocessing_layer(text_input)\n",
    "    # We only want to fine-tune, hence the False input.\n",
    "    # I've also tried with trainable=True out of curiosity... the results were similar\n",
    "    encoder = hub.KerasLayer(tfhub_handle_encoder, trainable=False, name='BERT_encoder')\n",
    "    outputs = encoder(encoder_inputs)\n",
    "    net = outputs['pooled_output']\n",
    "    net = tf.keras.layers.Dropout(0.1)(net)\n",
    "    net = tf.keras.layers.Dense(3, activation=\"softmax\", name='classifier')(net)\n",
    "    return tf.keras.Model(text_input, net)"
   ]
  },
  {
   "cell_type": "code",
   "execution_count": 9,
   "id": "885d247a",
   "metadata": {},
   "outputs": [],
   "source": [
    "batch_size=1\n",
    "sentences_train=tf.constant(corpus_train)\n",
    "\n",
    "train_dataset = tf.data.Dataset.from_tensor_slices(\n",
    "        (sentences_train,labels_train)\n",
    "        ).batch(batch_size)\n",
    "\n",
    "sentences_test=tf.constant(corpus_test)\n",
    "test_dataset = tf.data.Dataset.from_tensor_slices(\n",
    "        (sentences_test,labels_test)\n",
    "        ).batch(batch_size)"
   ]
  },
  {
   "cell_type": "code",
   "execution_count": 10,
   "id": "5d493b9b",
   "metadata": {},
   "outputs": [],
   "source": [
    "classifier_model = build_classifier_model()"
   ]
  },
  {
   "cell_type": "code",
   "execution_count": 11,
   "id": "4e3dead2",
   "metadata": {},
   "outputs": [
    {
     "name": "stdout",
     "output_type": "stream",
     "text": [
      "Model: \"model\"\n",
      "__________________________________________________________________________________________________\n",
      "Layer (type)                    Output Shape         Param #     Connected to                     \n",
      "==================================================================================================\n",
      "sentences (InputLayer)          [(None,)]            0                                            \n",
      "__________________________________________________________________________________________________\n",
      "preprocessing (KerasLayer)      {'input_word_ids': ( 0           sentences[0][0]                  \n",
      "__________________________________________________________________________________________________\n",
      "BERT_encoder (KerasLayer)       {'sequence_output':  109482241   preprocessing[0][0]              \n",
      "                                                                 preprocessing[0][1]              \n",
      "                                                                 preprocessing[0][2]              \n",
      "__________________________________________________________________________________________________\n",
      "dropout (Dropout)               (None, 768)          0           BERT_encoder[0][13]              \n",
      "__________________________________________________________________________________________________\n",
      "classifier (Dense)              (None, 3)            2307        dropout[0][0]                    \n",
      "==================================================================================================\n",
      "Total params: 109,484,548\n",
      "Trainable params: 2,307\n",
      "Non-trainable params: 109,482,241\n",
      "__________________________________________________________________________________________________\n"
     ]
    }
   ],
   "source": [
    "classifier_model.summary()"
   ]
  },
  {
   "cell_type": "code",
   "execution_count": 12,
   "id": "8904d476",
   "metadata": {},
   "outputs": [],
   "source": [
    "loss = tf.keras.losses.SparseCategoricalCrossentropy()\n",
    "metrics = tf.keras.metrics.SparseCategoricalAccuracy(name='sparse_categorical_accuracy')"
   ]
  },
  {
   "cell_type": "code",
   "execution_count": 13,
   "id": "de5dd1e5",
   "metadata": {},
   "outputs": [],
   "source": [
    "classifier_model.compile(optimizer=tf.keras.optimizers.Adam(),\n",
    "                         loss=loss,\n",
    "                         metrics=metrics)"
   ]
  },
  {
   "cell_type": "code",
   "execution_count": 14,
   "id": "9c4d3a40",
   "metadata": {},
   "outputs": [
    {
     "name": "stdout",
     "output_type": "stream",
     "text": [
      "Epoch 1/10\n",
      "685/685 [==============================] - 442s 611ms/step - loss: 1.2118 - sparse_categorical_accuracy: 0.4117 - val_loss: 1.1805 - val_sparse_categorical_accuracy: 0.4059\n",
      "Epoch 2/10\n",
      "685/685 [==============================] - 416s 606ms/step - loss: 1.1653 - sparse_categorical_accuracy: 0.4131 - val_loss: 1.1258 - val_sparse_categorical_accuracy: 0.4176\n",
      "Epoch 3/10\n",
      "685/685 [==============================] - 406s 591ms/step - loss: 1.1405 - sparse_categorical_accuracy: 0.4350 - val_loss: 1.2057 - val_sparse_categorical_accuracy: 0.4118\n",
      "Epoch 4/10\n",
      "685/685 [==============================] - 413s 601ms/step - loss: 1.1162 - sparse_categorical_accuracy: 0.4584 - val_loss: 1.2054 - val_sparse_categorical_accuracy: 0.4118\n",
      "Epoch 5/10\n",
      "685/685 [==============================] - 438s 637ms/step - loss: 1.1379 - sparse_categorical_accuracy: 0.4453 - val_loss: 1.2841 - val_sparse_categorical_accuracy: 0.4059\n",
      "Epoch 6/10\n",
      "685/685 [==============================] - 426s 620ms/step - loss: 1.1088 - sparse_categorical_accuracy: 0.4657 - val_loss: 1.2831 - val_sparse_categorical_accuracy: 0.4059\n",
      "Epoch 7/10\n",
      "685/685 [==============================] - 416s 606ms/step - loss: 1.1080 - sparse_categorical_accuracy: 0.4759 - val_loss: 1.3228 - val_sparse_categorical_accuracy: 0.4059\n",
      "Epoch 8/10\n",
      "685/685 [==============================] - 409s 594ms/step - loss: 1.1146 - sparse_categorical_accuracy: 0.4628 - val_loss: 1.2830 - val_sparse_categorical_accuracy: 0.4059\n",
      "Epoch 9/10\n",
      "685/685 [==============================] - 406s 590ms/step - loss: 1.0890 - sparse_categorical_accuracy: 0.4701 - val_loss: 1.2613 - val_sparse_categorical_accuracy: 0.4059\n",
      "Epoch 10/10\n",
      "685/685 [==============================] - 413s 601ms/step - loss: 1.0899 - sparse_categorical_accuracy: 0.4920 - val_loss: 1.2811 - val_sparse_categorical_accuracy: 0.4059\n"
     ]
    }
   ],
   "source": [
    "epochs = 10\n",
    "history = classifier_model.fit(x=train_dataset,\n",
    "                               validation_data=test_dataset,\n",
    "                               epochs=epochs,verbose=1)"
   ]
  },
  {
   "cell_type": "code",
   "execution_count": 15,
   "id": "7ef42afa",
   "metadata": {},
   "outputs": [
    {
     "name": "stderr",
     "output_type": "stream",
     "text": [
      "WARNING:absl:Found untraced functions such as restored_function_body, restored_function_body, restored_function_body, restored_function_body, restored_function_body while saving (showing 5 of 915). These functions will not be directly callable after loading.\n"
     ]
    }
   ],
   "source": [
    "path_saved_bert=path+\"Saved Models\\\\\"+\"BERT - BigSmall - Classification\"\n",
    "classifier_model.save(path_saved_bert, include_optimizer=False)"
   ]
  },
  {
   "cell_type": "code",
   "execution_count": 16,
   "id": "54d4e952",
   "metadata": {
    "scrolled": false
   },
   "outputs": [
    {
     "data": {
      "image/png": "[encoded data removed]",
      "text/plain": [
       "<Figure size 720x432 with 2 Axes>"
      ]
     },
     "metadata": {},
     "output_type": "display_data"
    }
   ],
   "source": [
    "print_plots(history)"
   ]
  },
  {
   "cell_type": "markdown",
   "id": "b6c4c9f4",
   "metadata": {},
   "source": [
    "It seems to be overfitting..."
   ]
  },
  {
   "cell_type": "code",
   "execution_count": 17,
   "id": "42702c85",
   "metadata": {},
   "outputs": [],
   "source": [
    "def print_my_examples(inputs, results,version=\"classifier\"):\n",
    "    if version==\"classifier\":        \n",
    "        message=\"input: {0} class: {1} score: {2}\"\n",
    "        result_for_printing = [message.format(inputs[i][0:50],\n",
    "                                                  np.where(results.numpy()[i] == np.amax(results.numpy()[i]))[0],\n",
    "                                                  np.amax(results.numpy()[i]))\n",
    "                               for i in range(len(inputs))]\n",
    "        print(*result_for_printing, sep='\\n')\n",
    "    if version==\"regressor\":\n",
    "        message=\"input: {0} target: {1}\"\n",
    "        result_for_printing = [message.format(inputs[i][0:50],results.numpy()[i][0])\n",
    "                               for i in range(len(inputs))]\n",
    "        print(*result_for_printing, sep='\\n')\n",
    "    \n",
    "    print()"
   ]
  },
  {
   "cell_type": "code",
   "execution_count": 18,
   "id": "67d8f2af",
   "metadata": {},
   "outputs": [],
   "source": [
    "examples = [\n",
    "    'Trust us, inflation will be 2%', \n",
    "    'We are unsure whether it will be 2%',\n",
    "    'Inflation will be higher than 2%',\n",
    "    'Inflation will be lower than 2%',\n",
    "]"
   ]
  },
  {
   "cell_type": "code",
   "execution_count": 19,
   "id": "fa9fcc62",
   "metadata": {},
   "outputs": [
    {
     "name": "stdout",
     "output_type": "stream",
     "text": [
      "input: Trust us, inflation will be 2% class: [2] score: 0.471283495426178\n",
      "input: We are unsure whether it will be 2% class: [2] score: 0.4400375485420227\n",
      "input: Inflation will be higher than 2% class: [2] score: 0.3936995267868042\n",
      "input: Inflation will be lower than 2% class: [2] score: 0.39559948444366455\n",
      "\n"
     ]
    }
   ],
   "source": [
    "results=tf.nn.softmax(classifier_model(tf.constant(examples)))\n",
    "print_my_examples(examples,results)\n",
    "# 0 ->  no change\n",
    "# 2 -> increased the distance relative to objective of 2\n",
    "# 1 -> decreased the distance relative to objective of 2"
   ]
  },
  {
   "cell_type": "markdown",
   "id": "8bd3da88",
   "metadata": {},
   "source": [
    "# BERT - BigSmall Model - Regression"
   ]
  },
  {
   "cell_type": "code",
   "execution_count": 20,
   "id": "ba4d70cc",
   "metadata": {},
   "outputs": [],
   "source": [
    "def print_plots_regression(history):\n",
    "    history_dict = history.history\n",
    "    #print(history_dict.keys())\n",
    "\n",
    "    acc = history_dict['mean_squared_error']\n",
    "    val_acc = history_dict['val_mean_squared_error']\n",
    "    loss = history_dict['loss']\n",
    "    val_loss = history_dict['val_loss']\n",
    "\n",
    "    epochs = range(1, len(acc) + 1)\n",
    "    fig = plt.figure(figsize=(10, 6))#,constrained_layout = True)\n",
    "    fig.tight_layout()\n",
    "\n",
    "    plt.subplot(2, 1, 1)\n",
    "    # \"bo\" is for \"blue dot\"\n",
    "    plt.plot(epochs, loss, 'r', label='Training loss')\n",
    "    # b is for \"solid blue line\"\n",
    "    plt.plot(epochs, val_loss, 'b', label='Validation loss')\n",
    "    plt.title('Training and validation loss')\n",
    "    # plt.xlabel('Epochs')\n",
    "    plt.ylabel('Loss')\n",
    "    plt.legend();\n",
    "\n",
    "    plt.subplot(2, 1, 2)\n",
    "    plt.plot(epochs, acc, 'r', label='Training Error')\n",
    "    plt.plot(epochs, val_acc, 'b', label='Validation Error')\n",
    "    plt.title('Training and validation Error')\n",
    "    plt.xlabel('Epochs')\n",
    "    plt.ylabel('Accuracy')\n",
    "    plt.legend(loc='upper right')\n",
    "    plt.subplots_adjust(left=0.1,\n",
    "                        bottom=0.1, \n",
    "                        right=0.9, \n",
    "                        top=0.9, \n",
    "                        wspace=0.4, \n",
    "                        hspace=0.4);"
   ]
  },
  {
   "cell_type": "code",
   "execution_count": 21,
   "id": "fb9986e0",
   "metadata": {},
   "outputs": [],
   "source": [
    "def build_regression_model():\n",
    "    text_input = tf.keras.layers.Input(shape=(), dtype=tf.string, name='sentences')\n",
    "    preprocessing_layer = hub.KerasLayer(tfhub_handle_preprocess, name='preprocessing')\n",
    "    encoder_inputs = preprocessing_layer(text_input)\n",
    "    encoder = hub.KerasLayer(tfhub_handle_encoder, trainable=False, name='BERT_encoder')\n",
    "    outputs = encoder(encoder_inputs)\n",
    "    net = outputs['pooled_output']\n",
    "    #net = tf.keras.layers.Dropout(0.1)(net)\n",
    "    # no activation function, and just 1 output, since we're interested in Regression\n",
    "    net = tf.keras.layers.Dense(1, name='regressor')(net)\n",
    "    return tf.keras.Model(text_input, net)"
   ]
  },
  {
   "cell_type": "code",
   "execution_count": 22,
   "id": "bb0d8dcf",
   "metadata": {},
   "outputs": [
    {
     "data": {
      "text/plain": [
       "(855,)"
      ]
     },
     "execution_count": 22,
     "metadata": {},
     "output_type": "execute_result"
    }
   ],
   "source": [
    "target=np.asarray(df_Fed_merged[\"T5YIFR\"])\n",
    "target.shape"
   ]
  },
  {
   "cell_type": "code",
   "execution_count": 23,
   "id": "c674b888",
   "metadata": {},
   "outputs": [],
   "source": [
    "corpus_train, corpus_test, target_train, target_test=Time_Validation(corpus,target)"
   ]
  },
  {
   "cell_type": "code",
   "execution_count": 24,
   "id": "85635a97",
   "metadata": {},
   "outputs": [],
   "source": [
    "train_dataset = tf.data.Dataset.from_tensor_slices(\n",
    "        (sentences_train,target_train)\n",
    "        ).batch(batch_size)\n",
    "\n",
    "test_dataset = tf.data.Dataset.from_tensor_slices(\n",
    "        (sentences_test,target_test)\n",
    "        ).batch(batch_size)"
   ]
  },
  {
   "cell_type": "code",
   "execution_count": 25,
   "id": "e3ef7b30",
   "metadata": {},
   "outputs": [
    {
     "name": "stdout",
     "output_type": "stream",
     "text": [
      "Model: \"model_1\"\n",
      "__________________________________________________________________________________________________\n",
      "Layer (type)                    Output Shape         Param #     Connected to                     \n",
      "==================================================================================================\n",
      "sentences (InputLayer)          [(None,)]            0                                            \n",
      "__________________________________________________________________________________________________\n",
      "preprocessing (KerasLayer)      {'input_word_ids': ( 0           sentences[0][0]                  \n",
      "__________________________________________________________________________________________________\n",
      "BERT_encoder (KerasLayer)       {'sequence_output':  109482241   preprocessing[0][0]              \n",
      "                                                                 preprocessing[0][1]              \n",
      "                                                                 preprocessing[0][2]              \n",
      "__________________________________________________________________________________________________\n",
      "regressor (Dense)               (None, 1)            769         BERT_encoder[0][13]              \n",
      "==================================================================================================\n",
      "Total params: 109,483,010\n",
      "Trainable params: 769\n",
      "Non-trainable params: 109,482,241\n",
      "__________________________________________________________________________________________________\n"
     ]
    }
   ],
   "source": [
    "regression_model = build_regression_model()\n",
    "regression_model.summary()"
   ]
  },
  {
   "cell_type": "code",
   "execution_count": 26,
   "id": "2250feed",
   "metadata": {},
   "outputs": [],
   "source": [
    "loss = tf.keras.losses.MeanSquaredError() # we could also have used the MAE\n",
    "metrics = tf.keras.metrics.MeanSquaredError()"
   ]
  },
  {
   "cell_type": "code",
   "execution_count": 27,
   "id": "6350c627",
   "metadata": {},
   "outputs": [],
   "source": [
    "regression_model.compile(optimizer=tf.keras.optimizers.Adam(),\n",
    "                         loss=loss,\n",
    "                         metrics=metrics)"
   ]
  },
  {
   "cell_type": "code",
   "execution_count": 28,
   "id": "56015137",
   "metadata": {},
   "outputs": [
    {
     "name": "stdout",
     "output_type": "stream",
     "text": [
      "Epoch 1/10\n",
      "685/685 [==============================] - 551s 773ms/step - loss: 0.2174 - mean_squared_error: 0.2174 - val_loss: 0.0749 - val_mean_squared_error: 0.0749\n",
      "Epoch 2/10\n",
      "685/685 [==============================] - 526s 765ms/step - loss: 0.0915 - mean_squared_error: 0.0915 - val_loss: 0.0857 - val_mean_squared_error: 0.0857\n",
      "Epoch 3/10\n",
      "685/685 [==============================] - 526s 765ms/step - loss: 0.0848 - mean_squared_error: 0.0848 - val_loss: 0.1226 - val_mean_squared_error: 0.1226\n",
      "Epoch 4/10\n",
      "685/685 [==============================] - 516s 751ms/step - loss: 0.0806 - mean_squared_error: 0.0806 - val_loss: 0.1316 - val_mean_squared_error: 0.1316\n",
      "Epoch 5/10\n",
      "685/685 [==============================] - 519s 755ms/step - loss: 0.0778 - mean_squared_error: 0.0778 - val_loss: 0.1259 - val_mean_squared_error: 0.1259\n",
      "Epoch 6/10\n",
      "685/685 [==============================] - 522s 760ms/step - loss: 0.0756 - mean_squared_error: 0.0756 - val_loss: 0.1173 - val_mean_squared_error: 0.1173\n",
      "Epoch 7/10\n",
      "685/685 [==============================] - 508s 739ms/step - loss: 0.0737 - mean_squared_error: 0.0737 - val_loss: 0.1097 - val_mean_squared_error: 0.1097\n",
      "Epoch 8/10\n",
      "685/685 [==============================] - 519s 756ms/step - loss: 0.0720 - mean_squared_error: 0.0720 - val_loss: 0.1037 - val_mean_squared_error: 0.1037\n",
      "Epoch 9/10\n",
      "685/685 [==============================] - 528s 767ms/step - loss: 0.0706 - mean_squared_error: 0.0706 - val_loss: 0.0993 - val_mean_squared_error: 0.0993\n",
      "Epoch 10/10\n",
      "685/685 [==============================] - 524s 763ms/step - loss: 0.0694 - mean_squared_error: 0.0694 - val_loss: 0.0961 - val_mean_squared_error: 0.0961\n"
     ]
    }
   ],
   "source": [
    "epochs = 10\n",
    "history_regression = regression_model.fit(x=train_dataset,\n",
    "                               validation_data=test_dataset,\n",
    "                               epochs=epochs,verbose=1)"
   ]
  },
  {
   "cell_type": "code",
   "execution_count": 29,
   "id": "8f636aa7",
   "metadata": {},
   "outputs": [
    {
     "data": {
      "image/png": "[encoded data removed]",
      "text/plain": [
       "<Figure size 720x432 with 2 Axes>"
      ]
     },
     "metadata": {},
     "output_type": "display_data"
    }
   ],
   "source": [
    "print_plots_regression(history_regression)"
   ]
  },
  {
   "cell_type": "code",
   "execution_count": 30,
   "id": "9206bed4",
   "metadata": {
    "scrolled": false
   },
   "outputs": [
    {
     "name": "stdout",
     "output_type": "stream",
     "text": [
      "input: Trust us, inflation will be 2% target: 1.9971988201141357\n",
      "input: We are unsure whether it will be 2% target: 1.567384958267212\n",
      "input: Inflation will be higher than 2% target: 1.7909266948699951\n",
      "input: Inflation will be lower than 2% target: 1.8230507373809814\n",
      "\n"
     ]
    }
   ],
   "source": [
    "results=regression_model(tf.constant(examples))\n",
    "print_my_examples(examples,results,\"regressor\")"
   ]
  },
  {
   "cell_type": "code",
   "execution_count": 31,
   "id": "8662be28",
   "metadata": {},
   "outputs": [
    {
     "name": "stderr",
     "output_type": "stream",
     "text": [
      "WARNING:absl:Found untraced functions such as restored_function_body, restored_function_body, restored_function_body, restored_function_body, restored_function_body while saving (showing 5 of 915). These functions will not be directly callable after loading.\n"
     ]
    }
   ],
   "source": [
    "path_saved_bert_reg=path+\"Saved Models\\\\\"+\"BERT - BigSmall - Regression\"\n",
    "regression_model.save(path_saved_bert_reg, include_optimizer=False)"
   ]
  },
  {
   "cell_type": "code",
   "execution_count": null,
   "id": "49045637",
   "metadata": {},
   "outputs": [],
   "source": []
  }
 ],
 "metadata": {
  "kernelspec": {
   "display_name": "Python 3",
   "language": "python",
   "name": "python3"
  },
  "language_info": {
   "codemirror_mode": {
    "name": "ipython",
    "version": 3
   },
   "file_extension": ".py",
   "mimetype": "text/x-python",
   "name": "python",
   "nbconvert_exporter": "python",
   "pygments_lexer": "ipython3",
   "version": "3.8.8"
  }
 },
 "nbformat": 4,
 "nbformat_minor": 5
}
