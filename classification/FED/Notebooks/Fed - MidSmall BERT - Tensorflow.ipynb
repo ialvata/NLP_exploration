{
 "cells": [
  {
   "cell_type": "code",
   "execution_count": 1,
   "id": "c9c605d8",
   "metadata": {},
   "outputs": [],
   "source": [
    "import os\n",
    "import shutil\n",
    "import pandas as pd\n",
    "import numpy as np\n",
    "\n",
    "import tensorflow as tf\n",
    "import tensorflow_hub as hub\n",
    "import tensorflow_text as text\n",
    "\n",
    "from official.nlp import optimization\n",
    "#from sklearn.model_selection import KFold, StratifiedKFold,train_test_split\n",
    "import matplotlib.pyplot as plt\n",
    "\n",
    "tf.get_logger().setLevel('ERROR')"
   ]
  },
  {
   "cell_type": "code",
   "execution_count": 2,
   "id": "a8a50657",
   "metadata": {},
   "outputs": [],
   "source": [
    "tfhub_handle_preprocess=r\"C:\\Users\\iavta\\Natural Language Processing\\BERT\\Preprocessing\\bert_en_uncased_preprocess_3\"\n",
    "bert_preprocess_model = hub.KerasLayer(tfhub_handle_preprocess)\n",
    "tfhub_handle_encoder=r\"C:\\Users\\iavta\\Natural Language Processing\\BERT\\Encoder\\small_bert_bert_en_uncased_L-8_H-512_A-8_2\"\n",
    "bert_model = hub.KerasLayer(tfhub_handle_encoder)"
   ]
  },
  {
   "cell_type": "code",
   "execution_count": 3,
   "id": "24b578d5",
   "metadata": {},
   "outputs": [
    {
     "data": {
      "text/plain": [
       "(855,)"
      ]
     },
     "execution_count": 3,
     "metadata": {},
     "output_type": "execute_result"
    }
   ],
   "source": [
    "path=r\"C:\\Users\\iavta\\Natural Language Processing\\Economics\\FED\\\\\"\n",
    "df_Fed_merged=pd.read_csv(path+\"Data - Clean\\\\\"+\"Fed_merged.csv\")\n",
    "corpus=df_Fed_merged[\"text\"]\n",
    "corpus.shape"
   ]
  },
  {
   "cell_type": "code",
   "execution_count": 4,
   "id": "732ae390",
   "metadata": {},
   "outputs": [
    {
     "data": {
      "text/plain": [
       "(855,)"
      ]
     },
     "execution_count": 4,
     "metadata": {},
     "output_type": "execute_result"
    }
   ],
   "source": [
    "labels=np.asarray(df_Fed_merged[\"Classes\"].astype(\"int\"))\n",
    "labels.shape"
   ]
  },
  {
   "cell_type": "code",
   "execution_count": 5,
   "id": "80e5dfe1",
   "metadata": {},
   "outputs": [],
   "source": [
    "def Time_Validation(corpus,labels,test_size=0.2):\n",
    "       \n",
    "    train_index = list(range(int(len(corpus)-np.floor(test_size*len(corpus))+1)))\n",
    "    \n",
    "    \n",
    "    test_index =list(range(int(len(corpus)-np.floor(test_size*len(corpus))+1),len(corpus)))\n",
    "    \n",
    "    \n",
    "    return corpus[train_index], corpus[test_index],labels[train_index], labels[test_index]"
   ]
  },
  {
   "cell_type": "markdown",
   "id": "098f74cc",
   "metadata": {},
   "source": [
    "# BERT - MidSmall Model - Classification"
   ]
  },
  {
   "cell_type": "code",
   "execution_count": 6,
   "id": "5630d0c6",
   "metadata": {},
   "outputs": [],
   "source": [
    "import seaborn as sns\n",
    "\n",
    "sns.set()\n",
    "\n",
    "def print_plots(history):\n",
    "    history_dict = history.history\n",
    "    #print(history_dict.keys())\n",
    "\n",
    "    acc = history_dict['sparse_categorical_accuracy']\n",
    "    val_acc = history_dict['val_sparse_categorical_accuracy']\n",
    "    loss = history_dict['loss']\n",
    "    val_loss = history_dict['val_loss']\n",
    "\n",
    "    epochs = range(1, len(acc) + 1)\n",
    "    fig = plt.figure(figsize=(10, 6))#,constrained_layout = True)\n",
    "    fig.tight_layout()\n",
    "\n",
    "    plt.subplot(2, 1, 1)\n",
    "    # \"bo\" is for \"blue dot\"\n",
    "    plt.plot(epochs, loss, 'r', label='Training loss')\n",
    "    # b is for \"solid blue line\"\n",
    "    plt.plot(epochs, val_loss, 'b', label='Validation loss')\n",
    "    plt.title('Training and validation loss')\n",
    "    # plt.xlabel('Epochs')\n",
    "    plt.ylabel('Loss')\n",
    "    plt.legend();\n",
    "\n",
    "    plt.subplot(2, 1, 2)\n",
    "    plt.plot(epochs, acc, 'r', label='Training acc')\n",
    "    plt.plot(epochs, val_acc, 'b', label='Validation acc')\n",
    "    plt.title('Training and validation accuracy')\n",
    "    plt.xlabel('Epochs')\n",
    "    plt.ylabel('Accuracy')\n",
    "    plt.legend(loc='lower right')\n",
    "    plt.subplots_adjust(left=0.1,\n",
    "                        bottom=0.1, \n",
    "                        right=0.9, \n",
    "                        top=0.9, \n",
    "                        wspace=0.4, \n",
    "                        hspace=0.4);"
   ]
  },
  {
   "cell_type": "code",
   "execution_count": 7,
   "id": "c6c19dfb",
   "metadata": {},
   "outputs": [],
   "source": [
    "corpus_train, corpus_test, labels_train, labels_test=Time_Validation(corpus,labels)"
   ]
  },
  {
   "cell_type": "code",
   "execution_count": 8,
   "id": "9fc4ebae",
   "metadata": {},
   "outputs": [],
   "source": [
    "def build_classifier_model():\n",
    "    text_input = tf.keras.layers.Input(shape=(), dtype=tf.string, name='sentences')\n",
    "    preprocessing_layer = hub.KerasLayer(tfhub_handle_preprocess, name='preprocessing')\n",
    "    encoder_inputs = preprocessing_layer(text_input)\n",
    "    # We only want to fine-tune, hence the False input.\n",
    "    # I've also tried with trainable=True out of curiosity... the results were similar\n",
    "    encoder = hub.KerasLayer(tfhub_handle_encoder, trainable=False, name='BERT_encoder')\n",
    "    outputs = encoder(encoder_inputs)\n",
    "    net = outputs['pooled_output']\n",
    "    net = tf.keras.layers.Dropout(0.1)(net)\n",
    "    net = tf.keras.layers.Dense(3, activation=\"softmax\", name='classifier')(net)\n",
    "    return tf.keras.Model(text_input, net)"
   ]
  },
  {
   "cell_type": "code",
   "execution_count": 9,
   "id": "885d247a",
   "metadata": {},
   "outputs": [],
   "source": [
    "batch_size=1\n",
    "sentences_train=tf.constant(corpus_train)\n",
    "\n",
    "train_dataset = tf.data.Dataset.from_tensor_slices(\n",
    "        (sentences_train,labels_train)\n",
    "        ).batch(batch_size)\n",
    "\n",
    "sentences_test=tf.constant(corpus_test)\n",
    "test_dataset = tf.data.Dataset.from_tensor_slices(\n",
    "        (sentences_test,labels_test)\n",
    "        ).batch(batch_size)"
   ]
  },
  {
   "cell_type": "code",
   "execution_count": 10,
   "id": "5d493b9b",
   "metadata": {},
   "outputs": [],
   "source": [
    "classifier_model = build_classifier_model()"
   ]
  },
  {
   "cell_type": "code",
   "execution_count": 11,
   "id": "4e3dead2",
   "metadata": {},
   "outputs": [
    {
     "name": "stdout",
     "output_type": "stream",
     "text": [
      "Model: \"model\"\n",
      "__________________________________________________________________________________________________\n",
      "Layer (type)                    Output Shape         Param #     Connected to                     \n",
      "==================================================================================================\n",
      "sentences (InputLayer)          [(None,)]            0                                            \n",
      "__________________________________________________________________________________________________\n",
      "preprocessing (KerasLayer)      {'input_word_ids': ( 0           sentences[0][0]                  \n",
      "__________________________________________________________________________________________________\n",
      "BERT_encoder (KerasLayer)       {'sequence_output':  41373185    preprocessing[0][0]              \n",
      "                                                                 preprocessing[0][1]              \n",
      "                                                                 preprocessing[0][2]              \n",
      "__________________________________________________________________________________________________\n",
      "dropout (Dropout)               (None, 512)          0           BERT_encoder[0][9]               \n",
      "__________________________________________________________________________________________________\n",
      "classifier (Dense)              (None, 3)            1539        dropout[0][0]                    \n",
      "==================================================================================================\n",
      "Total params: 41,374,724\n",
      "Trainable params: 1,539\n",
      "Non-trainable params: 41,373,185\n",
      "__________________________________________________________________________________________________\n"
     ]
    }
   ],
   "source": [
    "classifier_model.summary()"
   ]
  },
  {
   "cell_type": "code",
   "execution_count": 12,
   "id": "8904d476",
   "metadata": {},
   "outputs": [],
   "source": [
    "loss = tf.keras.losses.SparseCategoricalCrossentropy()\n",
    "metrics = tf.keras.metrics.SparseCategoricalAccuracy(name='sparse_categorical_accuracy')"
   ]
  },
  {
   "cell_type": "code",
   "execution_count": 13,
   "id": "de5dd1e5",
   "metadata": {},
   "outputs": [],
   "source": [
    "classifier_model.compile(optimizer=tf.keras.optimizers.Adam(),\n",
    "                         loss=loss,\n",
    "                         metrics=metrics)"
   ]
  },
  {
   "cell_type": "code",
   "execution_count": 14,
   "id": "9c4d3a40",
   "metadata": {},
   "outputs": [
    {
     "name": "stdout",
     "output_type": "stream",
     "text": [
      "Epoch 1/10\n",
      "685/685 [==============================] - 189s 259ms/step - loss: 1.1239 - sparse_categorical_accuracy: 0.4263 - val_loss: 1.0991 - val_sparse_categorical_accuracy: 0.3941\n",
      "Epoch 2/10\n",
      "685/685 [==============================] - 171s 250ms/step - loss: 1.0906 - sparse_categorical_accuracy: 0.4438 - val_loss: 1.0709 - val_sparse_categorical_accuracy: 0.4059\n",
      "Epoch 3/10\n",
      "685/685 [==============================] - 170s 249ms/step - loss: 1.0540 - sparse_categorical_accuracy: 0.4496 - val_loss: 1.0942 - val_sparse_categorical_accuracy: 0.4059\n",
      "Epoch 4/10\n",
      "685/685 [==============================] - 177s 259ms/step - loss: 1.0495 - sparse_categorical_accuracy: 0.4555 - val_loss: 1.1034 - val_sparse_categorical_accuracy: 0.4059\n",
      "Epoch 5/10\n",
      "685/685 [==============================] - 170s 248ms/step - loss: 1.0345 - sparse_categorical_accuracy: 0.4730 - val_loss: 1.0990 - val_sparse_categorical_accuracy: 0.4059\n",
      "Epoch 6/10\n",
      "685/685 [==============================] - 162s 237ms/step - loss: 1.0232 - sparse_categorical_accuracy: 0.4803 - val_loss: 1.1116 - val_sparse_categorical_accuracy: 0.4118\n",
      "Epoch 7/10\n",
      "685/685 [==============================] - 163s 238ms/step - loss: 1.0119 - sparse_categorical_accuracy: 0.4861 - val_loss: 1.0969 - val_sparse_categorical_accuracy: 0.42351.0054 - sparse_cate\n",
      "Epoch 8/10\n",
      "685/685 [==============================] - 163s 237ms/step - loss: 1.0013 - sparse_categorical_accuracy: 0.4832 - val_loss: 1.0874 - val_sparse_categorical_accuracy: 0.4118\n",
      "Epoch 9/10\n",
      "685/685 [==============================] - 164s 240ms/step - loss: 1.0000 - sparse_categorical_accuracy: 0.4788 - val_loss: 1.1140 - val_sparse_categorical_accuracy: 0.4294\n",
      "Epoch 10/10\n",
      "685/685 [==============================] - 175s 256ms/step - loss: 0.9961 - sparse_categorical_accuracy: 0.5007 - val_loss: 1.0984 - val_sparse_categorical_accuracy: 0.4118\n"
     ]
    }
   ],
   "source": [
    "epochs = 10\n",
    "history = classifier_model.fit(x=train_dataset,\n",
    "                               validation_data=test_dataset,\n",
    "                               epochs=epochs,verbose=1)"
   ]
  },
  {
   "cell_type": "code",
   "execution_count": 31,
   "id": "7ef42afa",
   "metadata": {},
   "outputs": [
    {
     "name": "stderr",
     "output_type": "stream",
     "text": [
      "WARNING:absl:Found untraced functions such as restored_function_body, restored_function_body, restored_function_body, restored_function_body, restored_function_body while saving (showing 5 of 615). These functions will not be directly callable after loading.\n"
     ]
    }
   ],
   "source": [
    "path_saved_bert=path+\"Saved Models\\\\\"+\"BERT - MidSmall - Classification\"\n",
    "classifier_model.save(path_saved_bert, include_optimizer=False)"
   ]
  },
  {
   "cell_type": "code",
   "execution_count": 15,
   "id": "54d4e952",
   "metadata": {},
   "outputs": [
    {
     "data": {
      "image/png": "[encoded data removed]",
      "text/plain": [
       "<Figure size 720x432 with 2 Axes>"
      ]
     },
     "metadata": {},
     "output_type": "display_data"
    }
   ],
   "source": [
    "print_plots(history)"
   ]
  },
  {
   "cell_type": "code",
   "execution_count": 16,
   "id": "42702c85",
   "metadata": {},
   "outputs": [],
   "source": [
    "def print_my_examples(inputs, results,version=\"classifier\"):\n",
    "    if version==\"classifier\":        \n",
    "        message=\"input: {0} class: {1} score: {2}\"\n",
    "        result_for_printing = [message.format(inputs[i][0:50],\n",
    "                                                  np.where(results.numpy()[i] == np.amax(results.numpy()[i]))[0],\n",
    "                                                  np.amax(results.numpy()[i]))\n",
    "                               for i in range(len(inputs))]\n",
    "        print(*result_for_printing, sep='\\n')\n",
    "    if version==\"regressor\":\n",
    "        message=\"input: {0} target: {1}\"\n",
    "        result_for_printing = [message.format(inputs[i][0:50],results.numpy()[i][0])\n",
    "                               for i in range(len(inputs))]\n",
    "        print(*result_for_printing, sep='\\n')\n",
    "    \n",
    "    print()"
   ]
  },
  {
   "cell_type": "code",
   "execution_count": 17,
   "id": "67d8f2af",
   "metadata": {},
   "outputs": [],
   "source": [
    "examples = [\n",
    "    'Trust us, inflation will be 2%', \n",
    "    'We are unsure whether it will be 2%',\n",
    "    'Inflation will be higher than 2%',\n",
    "    'Inflation will be lower than 2%',\n",
    "]"
   ]
  },
  {
   "cell_type": "code",
   "execution_count": 18,
   "id": "fa9fcc62",
   "metadata": {},
   "outputs": [
    {
     "name": "stdout",
     "output_type": "stream",
     "text": [
      "input: Trust us, inflation will be 2% class: [2] score: 0.449893057346344\n",
      "input: We are unsure whether it will be 2% class: [2] score: 0.3578125536441803\n",
      "input: Inflation will be higher than 2% class: [2] score: 0.44580426812171936\n",
      "input: Inflation will be lower than 2% class: [2] score: 0.4343847930431366\n",
      "\n"
     ]
    }
   ],
   "source": [
    "results=tf.nn.softmax(classifier_model(tf.constant(examples)))\n",
    "print_my_examples(examples,results)\n",
    "# 0 ->  no change\n",
    "# 2 -> increased the distance relative to objective of 2\n",
    "# 1 -> decreased the distance relative to objective of 2"
   ]
  },
  {
   "cell_type": "markdown",
   "id": "8bd3da88",
   "metadata": {},
   "source": [
    "# BERT - MidSmall Model - Regression"
   ]
  },
  {
   "cell_type": "code",
   "execution_count": 19,
   "id": "ba4d70cc",
   "metadata": {},
   "outputs": [],
   "source": [
    "def print_plots_regression(history):\n",
    "    history_dict = history.history\n",
    "    #print(history_dict.keys())\n",
    "\n",
    "    acc = history_dict['mean_squared_error']\n",
    "    val_acc = history_dict['val_mean_squared_error']\n",
    "    loss = history_dict['loss']\n",
    "    val_loss = history_dict['val_loss']\n",
    "\n",
    "    epochs = range(1, len(acc) + 1)\n",
    "    fig = plt.figure(figsize=(10, 6))#,constrained_layout = True)\n",
    "    fig.tight_layout()\n",
    "\n",
    "    plt.subplot(2, 1, 1)\n",
    "    # \"bo\" is for \"blue dot\"\n",
    "    plt.plot(epochs, loss, 'r', label='Training loss')\n",
    "    # b is for \"solid blue line\"\n",
    "    plt.plot(epochs, val_loss, 'b', label='Validation loss')\n",
    "    plt.title('Training and validation loss')\n",
    "    # plt.xlabel('Epochs')\n",
    "    plt.ylabel('Loss')\n",
    "    plt.legend();\n",
    "\n",
    "    plt.subplot(2, 1, 2)\n",
    "    plt.plot(epochs, acc, 'r', label='Training Error')\n",
    "    plt.plot(epochs, val_acc, 'b', label='Validation Error')\n",
    "    plt.title('Training and validation Error')\n",
    "    plt.xlabel('Epochs')\n",
    "    plt.ylabel('Accuracy')\n",
    "    plt.legend(loc='upper right')\n",
    "    plt.subplots_adjust(left=0.1,\n",
    "                        bottom=0.1, \n",
    "                        right=0.9, \n",
    "                        top=0.9, \n",
    "                        wspace=0.4, \n",
    "                        hspace=0.4);"
   ]
  },
  {
   "cell_type": "code",
   "execution_count": 20,
   "id": "fb9986e0",
   "metadata": {},
   "outputs": [],
   "source": [
    "def build_regression_model():\n",
    "    text_input = tf.keras.layers.Input(shape=(), dtype=tf.string, name='sentences')\n",
    "    preprocessing_layer = hub.KerasLayer(tfhub_handle_preprocess, name='preprocessing')\n",
    "    encoder_inputs = preprocessing_layer(text_input)\n",
    "    encoder = hub.KerasLayer(tfhub_handle_encoder, trainable=False, name='BERT_encoder')\n",
    "    outputs = encoder(encoder_inputs)\n",
    "    net = outputs['pooled_output']\n",
    "    #net = tf.keras.layers.Dropout(0.1)(net)\n",
    "    # no activation function, and just 1 output, since we're interested in Regression\n",
    "    net = tf.keras.layers.Dense(1, name='regressor')(net)\n",
    "    return tf.keras.Model(text_input, net)"
   ]
  },
  {
   "cell_type": "code",
   "execution_count": 21,
   "id": "bb0d8dcf",
   "metadata": {},
   "outputs": [
    {
     "data": {
      "text/plain": [
       "(855,)"
      ]
     },
     "execution_count": 21,
     "metadata": {},
     "output_type": "execute_result"
    }
   ],
   "source": [
    "target=np.asarray(df_Fed_merged[\"T5YIFR\"])\n",
    "target.shape"
   ]
  },
  {
   "cell_type": "code",
   "execution_count": 22,
   "id": "c674b888",
   "metadata": {},
   "outputs": [],
   "source": [
    "corpus_train, corpus_test, target_train, target_test=Time_Validation(corpus,target)"
   ]
  },
  {
   "cell_type": "code",
   "execution_count": 23,
   "id": "85635a97",
   "metadata": {},
   "outputs": [],
   "source": [
    "train_dataset = tf.data.Dataset.from_tensor_slices(\n",
    "        (sentences_train,target_train)\n",
    "        ).batch(batch_size)\n",
    "\n",
    "test_dataset = tf.data.Dataset.from_tensor_slices(\n",
    "        (sentences_test,target_test)\n",
    "        ).batch(batch_size)"
   ]
  },
  {
   "cell_type": "code",
   "execution_count": 24,
   "id": "e3ef7b30",
   "metadata": {},
   "outputs": [
    {
     "name": "stdout",
     "output_type": "stream",
     "text": [
      "Model: \"model_1\"\n",
      "__________________________________________________________________________________________________\n",
      "Layer (type)                    Output Shape         Param #     Connected to                     \n",
      "==================================================================================================\n",
      "sentences (InputLayer)          [(None,)]            0                                            \n",
      "__________________________________________________________________________________________________\n",
      "preprocessing (KerasLayer)      {'input_type_ids': ( 0           sentences[0][0]                  \n",
      "__________________________________________________________________________________________________\n",
      "BERT_encoder (KerasLayer)       {'default': (None, 5 41373185    preprocessing[0][0]              \n",
      "                                                                 preprocessing[0][1]              \n",
      "                                                                 preprocessing[0][2]              \n",
      "__________________________________________________________________________________________________\n",
      "regressor (Dense)               (None, 1)            513         BERT_encoder[0][9]               \n",
      "==================================================================================================\n",
      "Total params: 41,373,698\n",
      "Trainable params: 513\n",
      "Non-trainable params: 41,373,185\n",
      "__________________________________________________________________________________________________\n"
     ]
    }
   ],
   "source": [
    "regression_model = build_regression_model()\n",
    "regression_model.summary()"
   ]
  },
  {
   "cell_type": "code",
   "execution_count": 25,
   "id": "2250feed",
   "metadata": {},
   "outputs": [],
   "source": [
    "loss = tf.keras.losses.MeanSquaredError() # we could also have used the MAE\n",
    "metrics = tf.keras.metrics.MeanSquaredError()"
   ]
  },
  {
   "cell_type": "code",
   "execution_count": 26,
   "id": "6350c627",
   "metadata": {},
   "outputs": [],
   "source": [
    "regression_model.compile(optimizer=tf.keras.optimizers.Adam(),\n",
    "                         loss=loss,\n",
    "                         metrics=metrics)"
   ]
  },
  {
   "cell_type": "code",
   "execution_count": 27,
   "id": "56015137",
   "metadata": {},
   "outputs": [
    {
     "name": "stdout",
     "output_type": "stream",
     "text": [
      "Epoch 1/10\n",
      "685/685 [==============================] - 184s 253ms/step - loss: 0.1383 - mean_squared_error: 0.1383 - val_loss: 0.0662 - val_mean_squared_error: 0.0662\n",
      "Epoch 2/10\n",
      "685/685 [==============================] - 166s 243ms/step - loss: 0.0829 - mean_squared_error: 0.0829 - val_loss: 0.0611 - val_mean_squared_error: 0.0611\n",
      "Epoch 3/10\n",
      "685/685 [==============================] - 165s 241ms/step - loss: 0.0719 - mean_squared_error: 0.0719 - val_loss: 0.0577 - val_mean_squared_error: 0.0577\n",
      "Epoch 4/10\n",
      "685/685 [==============================] - 161s 235ms/step - loss: 0.0663 - mean_squared_error: 0.0663 - val_loss: 0.0556 - val_mean_squared_error: 0.0556\n",
      "Epoch 5/10\n",
      "685/685 [==============================] - 165s 241ms/step - loss: 0.0630 - mean_squared_error: 0.0630 - val_loss: 0.0544 - val_mean_squared_error: 0.0544\n",
      "Epoch 6/10\n",
      "685/685 [==============================] - 170s 249ms/step - loss: 0.0608 - mean_squared_error: 0.0608 - val_loss: 0.0538 - val_mean_squared_error: 0.0538\n",
      "Epoch 7/10\n",
      "685/685 [==============================] - 169s 246ms/step - loss: 0.0591 - mean_squared_error: 0.0591 - val_loss: 0.0535 - val_mean_squared_error: 0.0535\n",
      "Epoch 8/10\n",
      "685/685 [==============================] - 173s 253ms/step - loss: 0.0577 - mean_squared_error: 0.0577 - val_loss: 0.0536 - val_mean_squared_error: 0.0536\n",
      "Epoch 9/10\n",
      "685/685 [==============================] - 174s 254ms/step - loss: 0.0566 - mean_squared_error: 0.0566 - val_loss: 0.0538 - val_mean_squared_error: 0.0538\n",
      "Epoch 10/10\n",
      "685/685 [==============================] - 177s 259ms/step - loss: 0.0556 - mean_squared_error: 0.0556 - val_loss: 0.0541 - val_mean_squared_error: 0.0541\n"
     ]
    }
   ],
   "source": [
    "epochs = 10\n",
    "history_regression = regression_model.fit(x=train_dataset,\n",
    "                               validation_data=test_dataset,\n",
    "                               epochs=epochs,verbose=1)"
   ]
  },
  {
   "cell_type": "code",
   "execution_count": 28,
   "id": "8f636aa7",
   "metadata": {},
   "outputs": [
    {
     "data": {
      "image/png": "[encoded data removed]",
      "text/plain": [
       "<Figure size 720x432 with 2 Axes>"
      ]
     },
     "metadata": {},
     "output_type": "display_data"
    }
   ],
   "source": [
    "print_plots_regression(history_regression)"
   ]
  },
  {
   "cell_type": "code",
   "execution_count": 29,
   "id": "9206bed4",
   "metadata": {
    "scrolled": false
   },
   "outputs": [
    {
     "name": "stdout",
     "output_type": "stream",
     "text": [
      "input: Trust us, inflation will be 2% target: 2.0178468227386475\n",
      "input: We are unsure whether it will be 2% target: 1.7582433223724365\n",
      "input: Inflation will be higher than 2% target: 1.722676157951355\n",
      "input: Inflation will be lower than 2% target: 1.789713978767395\n",
      "\n"
     ]
    }
   ],
   "source": [
    "results=regression_model(tf.constant(examples))\n",
    "print_my_examples(examples,results,\"regressor\")"
   ]
  },
  {
   "cell_type": "markdown",
   "id": "538e87b8",
   "metadata": {},
   "source": [
    "The lower, and higher sentence predictions seem a bit strange. However, the Trust us, is very interesting. I'm not sure how to interpret these results... =D"
   ]
  },
  {
   "cell_type": "code",
   "execution_count": 30,
   "id": "8662be28",
   "metadata": {},
   "outputs": [
    {
     "name": "stderr",
     "output_type": "stream",
     "text": [
      "WARNING:absl:Found untraced functions such as restored_function_body, restored_function_body, restored_function_body, restored_function_body, restored_function_body while saving (showing 5 of 615). These functions will not be directly callable after loading.\n"
     ]
    }
   ],
   "source": [
    "path_saved_bert_reg=path+\"Saved Models\\\\\"+\"BERT - MidSmall - Regression\"\n",
    "regression_model.save(path_saved_bert_reg, include_optimizer=False)"
   ]
  },
  {
   "cell_type": "code",
   "execution_count": null,
   "id": "49045637",
   "metadata": {},
   "outputs": [],
   "source": []
  }
 ],
 "metadata": {
  "kernelspec": {
   "display_name": "Python 3",
   "language": "python",
   "name": "python3"
  },
  "language_info": {
   "codemirror_mode": {
    "name": "ipython",
    "version": 3
   },
   "file_extension": ".py",
   "mimetype": "text/x-python",
   "name": "python",
   "nbconvert_exporter": "python",
   "pygments_lexer": "ipython3",
   "version": "3.8.8"
  }
 },
 "nbformat": 4,
 "nbformat_minor": 5
}
