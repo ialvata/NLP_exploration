{
 "cells": [
  {
   "cell_type": "code",
   "execution_count": 1,
   "id": "b1a7e1d9",
   "metadata": {},
   "outputs": [],
   "source": [
    "import pandas as pd\n",
    "import numpy as np\n",
    "from datetime import datetime"
   ]
  },
  {
   "cell_type": "code",
   "execution_count": 2,
   "id": "54f2cd23",
   "metadata": {},
   "outputs": [],
   "source": [
    "path=r\"C:\\Users\\iavta\\Natural Language Processing\\Economics\\FED\\\\\""
   ]
  },
  {
   "cell_type": "markdown",
   "id": "7e8e8643",
   "metadata": {},
   "source": [
    "# Preparing Speeches Dataframe"
   ]
  },
  {
   "cell_type": "code",
   "execution_count": 3,
   "id": "53bb3a74",
   "metadata": {},
   "outputs": [],
   "source": [
    "df_Fed=pd.read_csv(path+\"Data - Raw\\\\\"+\"fed_speeches_1996_2020.csv\")"
   ]
  },
  {
   "cell_type": "code",
   "execution_count": 4,
   "id": "6840f73a",
   "metadata": {},
   "outputs": [
    {
     "data": {
      "text/html": [
       "<div>\n",
       "<style scoped>\n",
       "    .dataframe tbody tr th:only-of-type {\n",
       "        vertical-align: middle;\n",
       "    }\n",
       "\n",
       "    .dataframe tbody tr th {\n",
       "        vertical-align: top;\n",
       "    }\n",
       "\n",
       "    .dataframe thead th {\n",
       "        text-align: right;\n",
       "    }\n",
       "</style>\n",
       "<table border=\"1\" class=\"dataframe\">\n",
       "  <thead>\n",
       "    <tr style=\"text-align: right;\">\n",
       "      <th></th>\n",
       "      <th>link</th>\n",
       "      <th>title</th>\n",
       "      <th>speaker</th>\n",
       "      <th>event</th>\n",
       "      <th>year</th>\n",
       "      <th>text</th>\n",
       "      <th>date</th>\n",
       "      <th>text_len</th>\n",
       "      <th>location</th>\n",
       "    </tr>\n",
       "  </thead>\n",
       "  <tbody>\n",
       "    <tr>\n",
       "      <th>0</th>\n",
       "      <td>https://www.federalreserve.gov/boarddocs/speec...</td>\n",
       "      <td>Supervision of bank risk-taking</td>\n",
       "      <td>Vice Chair Alice M. Rivlin</td>\n",
       "      <td>At the The Brookings Institution National Issu...</td>\n",
       "      <td>1996.0</td>\n",
       "      <td>I discovered when I joined the Board of Govern...</td>\n",
       "      <td>19961219.0</td>\n",
       "      <td>3671</td>\n",
       "      <td>D.C.</td>\n",
       "    </tr>\n",
       "    <tr>\n",
       "      <th>1</th>\n",
       "      <td>https://www.federalreserve.gov/boarddocs/speec...</td>\n",
       "      <td>Social security</td>\n",
       "      <td>Chairman Alan Greenspan</td>\n",
       "      <td>At the Abraham Lincoln Award Ceremony of the U...</td>\n",
       "      <td>1996.0</td>\n",
       "      <td>I am privileged to accept the Union League of...</td>\n",
       "      <td>19961206.0</td>\n",
       "      <td>2596</td>\n",
       "      <td>Pennsylvania</td>\n",
       "    </tr>\n",
       "    <tr>\n",
       "      <th>2</th>\n",
       "      <td>https://www.federalreserve.gov/boarddocs/speec...</td>\n",
       "      <td>The challenge of central banking in a democrat...</td>\n",
       "      <td>Chairman Alan Greenspan</td>\n",
       "      <td>At the Annual Dinner and Francis Boyer Lecture...</td>\n",
       "      <td>1996.0</td>\n",
       "      <td>The Challenge of Central Banking in a Democrat...</td>\n",
       "      <td>19961205.0</td>\n",
       "      <td>4344</td>\n",
       "      <td>D.C.</td>\n",
       "    </tr>\n",
       "    <tr>\n",
       "      <th>3</th>\n",
       "      <td>https://www.federalreserve.gov/boarddocs/speec...</td>\n",
       "      <td>Clearinghouses and risk management</td>\n",
       "      <td>Governor Edward W. Kelley, Jr.</td>\n",
       "      <td>At the 1996 Payments System Risk Conference, W...</td>\n",
       "      <td>1996.0</td>\n",
       "      <td>It is a pleasure to be with you this morning ...</td>\n",
       "      <td>19961203.0</td>\n",
       "      <td>2527</td>\n",
       "      <td>D.C.</td>\n",
       "    </tr>\n",
       "    <tr>\n",
       "      <th>4</th>\n",
       "      <td>https://www.federalreserve.gov/boarddocs/speec...</td>\n",
       "      <td>Supervisory and regulatory responses to financ...</td>\n",
       "      <td>Governor Susan M. Phillips</td>\n",
       "      <td>At the BAI Seminar on Regulatory Policy Change...</td>\n",
       "      <td>1996.0</td>\n",
       "      <td>Supervisory and Regulatory Responses to Financ...</td>\n",
       "      <td>19961125.0</td>\n",
       "      <td>2222</td>\n",
       "      <td>D.C.</td>\n",
       "    </tr>\n",
       "  </tbody>\n",
       "</table>\n",
       "</div>"
      ],
      "text/plain": [
       "                                                link  \\\n",
       "0  https://www.federalreserve.gov/boarddocs/speec...   \n",
       "1  https://www.federalreserve.gov/boarddocs/speec...   \n",
       "2  https://www.federalreserve.gov/boarddocs/speec...   \n",
       "3  https://www.federalreserve.gov/boarddocs/speec...   \n",
       "4  https://www.federalreserve.gov/boarddocs/speec...   \n",
       "\n",
       "                                               title  \\\n",
       "0                    Supervision of bank risk-taking   \n",
       "1                                    Social security   \n",
       "2  The challenge of central banking in a democrat...   \n",
       "3                 Clearinghouses and risk management   \n",
       "4  Supervisory and regulatory responses to financ...   \n",
       "\n",
       "                          speaker  \\\n",
       "0      Vice Chair Alice M. Rivlin   \n",
       "1         Chairman Alan Greenspan   \n",
       "2         Chairman Alan Greenspan   \n",
       "3  Governor Edward W. Kelley, Jr.   \n",
       "4      Governor Susan M. Phillips   \n",
       "\n",
       "                                               event    year  \\\n",
       "0  At the The Brookings Institution National Issu...  1996.0   \n",
       "1  At the Abraham Lincoln Award Ceremony of the U...  1996.0   \n",
       "2  At the Annual Dinner and Francis Boyer Lecture...  1996.0   \n",
       "3  At the 1996 Payments System Risk Conference, W...  1996.0   \n",
       "4  At the BAI Seminar on Regulatory Policy Change...  1996.0   \n",
       "\n",
       "                                                text        date  text_len  \\\n",
       "0  I discovered when I joined the Board of Govern...  19961219.0      3671   \n",
       "1   I am privileged to accept the Union League of...  19961206.0      2596   \n",
       "2  The Challenge of Central Banking in a Democrat...  19961205.0      4344   \n",
       "3   It is a pleasure to be with you this morning ...  19961203.0      2527   \n",
       "4  Supervisory and Regulatory Responses to Financ...  19961125.0      2222   \n",
       "\n",
       "       location  \n",
       "0          D.C.  \n",
       "1  Pennsylvania  \n",
       "2          D.C.  \n",
       "3          D.C.  \n",
       "4          D.C.  "
      ]
     },
     "execution_count": 4,
     "metadata": {},
     "output_type": "execute_result"
    }
   ],
   "source": [
    "df_Fed.head()"
   ]
  },
  {
   "cell_type": "code",
   "execution_count": 5,
   "id": "a22941ef",
   "metadata": {},
   "outputs": [
    {
     "data": {
      "text/plain": [
       "(1456, 9)"
      ]
     },
     "execution_count": 5,
     "metadata": {},
     "output_type": "execute_result"
    }
   ],
   "source": [
    "df_Fed.shape"
   ]
  },
  {
   "cell_type": "code",
   "execution_count": 6,
   "id": "39258969",
   "metadata": {},
   "outputs": [],
   "source": [
    "df_Fed[\"date\"]= pd.to_datetime(df_Fed['date'], format='%Y%m%d')"
   ]
  },
  {
   "cell_type": "code",
   "execution_count": 7,
   "id": "a95e1554",
   "metadata": {},
   "outputs": [],
   "source": [
    "df_Fed_byDate=df_Fed.groupby(\"date\",as_index=False,sort=True).agg(\" \".join)"
   ]
  },
  {
   "cell_type": "code",
   "execution_count": 8,
   "id": "f6357786",
   "metadata": {},
   "outputs": [
    {
     "data": {
      "text/plain": [
       "(1236, 6)"
      ]
     },
     "execution_count": 8,
     "metadata": {},
     "output_type": "execute_result"
    }
   ],
   "source": [
    "df_Fed_byDate.shape"
   ]
  },
  {
   "cell_type": "code",
   "execution_count": 9,
   "id": "e0fb427a",
   "metadata": {},
   "outputs": [
    {
     "data": {
      "text/html": [
       "<div>\n",
       "<style scoped>\n",
       "    .dataframe tbody tr th:only-of-type {\n",
       "        vertical-align: middle;\n",
       "    }\n",
       "\n",
       "    .dataframe tbody tr th {\n",
       "        vertical-align: top;\n",
       "    }\n",
       "\n",
       "    .dataframe thead th {\n",
       "        text-align: right;\n",
       "    }\n",
       "</style>\n",
       "<table border=\"1\" class=\"dataframe\">\n",
       "  <thead>\n",
       "    <tr style=\"text-align: right;\">\n",
       "      <th></th>\n",
       "      <th>date</th>\n",
       "      <th>link</th>\n",
       "      <th>title</th>\n",
       "      <th>event</th>\n",
       "      <th>text</th>\n",
       "      <th>location</th>\n",
       "    </tr>\n",
       "  </thead>\n",
       "  <tbody>\n",
       "    <tr>\n",
       "      <th>0</th>\n",
       "      <td>1996-06-13</td>\n",
       "      <td>https://www.federalreserve.gov/boarddocs/speec...</td>\n",
       "      <td>Bank supervision in a world economy</td>\n",
       "      <td>At the International Conference of Banking Sup...</td>\n",
       "      <td>Remarks by Chairman Alan Greenspan Bank superv...</td>\n",
       "      <td>Sweden</td>\n",
       "    </tr>\n",
       "    <tr>\n",
       "      <th>1</th>\n",
       "      <td>1996-06-18</td>\n",
       "      <td>https://www.federalreserve.gov/boarddocs/speec...</td>\n",
       "      <td>Developments in electronic money and banking</td>\n",
       "      <td>At the CyberPayments '96 Conference, Dallas, T...</td>\n",
       "      <td>Remarks by Governor Edward W. Kelley, Jr. Deve...</td>\n",
       "      <td>Texas</td>\n",
       "    </tr>\n",
       "    <tr>\n",
       "      <th>2</th>\n",
       "      <td>1996-09-08</td>\n",
       "      <td>https://www.federalreserve.gov/boarddocs/speec...</td>\n",
       "      <td>Monetary policy objectives and strategy</td>\n",
       "      <td>At the National Association of Business Econom...</td>\n",
       "      <td>Monetary Policy Objectives and Strategy  I wan...</td>\n",
       "      <td>Massachusetts</td>\n",
       "    </tr>\n",
       "    <tr>\n",
       "      <th>3</th>\n",
       "      <td>1996-09-19</td>\n",
       "      <td>https://www.federalreserve.gov/boarddocs/speec...</td>\n",
       "      <td>Regulation and electronic payment systems</td>\n",
       "      <td>At the U.S. Treasury Conference on Electronic ...</td>\n",
       "      <td>Remarks by Chairman Alan Greenspan Regulation ...</td>\n",
       "      <td>D.C.</td>\n",
       "    </tr>\n",
       "    <tr>\n",
       "      <th>4</th>\n",
       "      <td>1996-10-02</td>\n",
       "      <td>https://www.federalreserve.gov/boarddocs/speec...</td>\n",
       "      <td>Small business is big business</td>\n",
       "      <td>At the Small Business Development Conference, ...</td>\n",
       "      <td>Remarks by Governor Lawrence B. Lindsey At the...</td>\n",
       "      <td>Virginia</td>\n",
       "    </tr>\n",
       "  </tbody>\n",
       "</table>\n",
       "</div>"
      ],
      "text/plain": [
       "        date                                               link  \\\n",
       "0 1996-06-13  https://www.federalreserve.gov/boarddocs/speec...   \n",
       "1 1996-06-18  https://www.federalreserve.gov/boarddocs/speec...   \n",
       "2 1996-09-08  https://www.federalreserve.gov/boarddocs/speec...   \n",
       "3 1996-09-19  https://www.federalreserve.gov/boarddocs/speec...   \n",
       "4 1996-10-02  https://www.federalreserve.gov/boarddocs/speec...   \n",
       "\n",
       "                                          title  \\\n",
       "0           Bank supervision in a world economy   \n",
       "1  Developments in electronic money and banking   \n",
       "2       Monetary policy objectives and strategy   \n",
       "3     Regulation and electronic payment systems   \n",
       "4                Small business is big business   \n",
       "\n",
       "                                               event  \\\n",
       "0  At the International Conference of Banking Sup...   \n",
       "1  At the CyberPayments '96 Conference, Dallas, T...   \n",
       "2  At the National Association of Business Econom...   \n",
       "3  At the U.S. Treasury Conference on Electronic ...   \n",
       "4  At the Small Business Development Conference, ...   \n",
       "\n",
       "                                                text       location  \n",
       "0  Remarks by Chairman Alan Greenspan Bank superv...         Sweden  \n",
       "1  Remarks by Governor Edward W. Kelley, Jr. Deve...          Texas  \n",
       "2  Monetary Policy Objectives and Strategy  I wan...  Massachusetts  \n",
       "3  Remarks by Chairman Alan Greenspan Regulation ...           D.C.  \n",
       "4  Remarks by Governor Lawrence B. Lindsey At the...       Virginia  "
      ]
     },
     "execution_count": 9,
     "metadata": {},
     "output_type": "execute_result"
    }
   ],
   "source": [
    "df_Fed_byDate.head()"
   ]
  },
  {
   "cell_type": "code",
   "execution_count": 10,
   "id": "129ca5d8",
   "metadata": {
    "scrolled": false
   },
   "outputs": [
    {
     "name": "stdout",
     "output_type": "stream",
     "text": [
      "<class 'pandas.core.frame.DataFrame'>\n",
      "Int64Index: 1236 entries, 0 to 1235\n",
      "Data columns (total 6 columns):\n",
      " #   Column    Non-Null Count  Dtype         \n",
      "---  ------    --------------  -----         \n",
      " 0   date      1236 non-null   datetime64[ns]\n",
      " 1   link      1236 non-null   object        \n",
      " 2   title     1236 non-null   object        \n",
      " 3   event     1236 non-null   object        \n",
      " 4   text      1236 non-null   object        \n",
      " 5   location  1236 non-null   object        \n",
      "dtypes: datetime64[ns](1), object(5)\n",
      "memory usage: 67.6+ KB\n"
     ]
    }
   ],
   "source": [
    "df_Fed_byDate.info()"
   ]
  },
  {
   "cell_type": "code",
   "execution_count": 11,
   "id": "ab468e3f",
   "metadata": {},
   "outputs": [],
   "source": [
    "df_Fed_byDate.to_csv(path+\"Data - Clean\\\\\"+\"Fed_byDate.csv\", index = False)"
   ]
  },
  {
   "cell_type": "code",
   "execution_count": 12,
   "id": "b23b4a27",
   "metadata": {},
   "outputs": [
    {
     "data": {
      "text/plain": [
       "(909, 6)"
      ]
     },
     "execution_count": 12,
     "metadata": {},
     "output_type": "execute_result"
    }
   ],
   "source": [
    "df_Fed_byDate[df_Fed_byDate[\"date\"].apply(lambda x: x.year)>=2003].shape"
   ]
  },
  {
   "cell_type": "markdown",
   "id": "1287dc8b",
   "metadata": {},
   "source": [
    "# Fed - 5-Year, 5-Year Forward Inflation Expectation Rate"
   ]
  },
  {
   "cell_type": "code",
   "execution_count": 66,
   "id": "361e6287",
   "metadata": {},
   "outputs": [
    {
     "data": {
      "text/html": [
       "<div>\n",
       "<style scoped>\n",
       "    .dataframe tbody tr th:only-of-type {\n",
       "        vertical-align: middle;\n",
       "    }\n",
       "\n",
       "    .dataframe tbody tr th {\n",
       "        vertical-align: top;\n",
       "    }\n",
       "\n",
       "    .dataframe thead th {\n",
       "        text-align: right;\n",
       "    }\n",
       "</style>\n",
       "<table border=\"1\" class=\"dataframe\">\n",
       "  <thead>\n",
       "    <tr style=\"text-align: right;\">\n",
       "      <th></th>\n",
       "      <th>DATE</th>\n",
       "      <th>T5YIFR</th>\n",
       "    </tr>\n",
       "  </thead>\n",
       "  <tbody>\n",
       "    <tr>\n",
       "      <th>0</th>\n",
       "      <td>2003-01-02</td>\n",
       "      <td>1.98</td>\n",
       "    </tr>\n",
       "    <tr>\n",
       "      <th>1</th>\n",
       "      <td>2003-01-03</td>\n",
       "      <td>1.96</td>\n",
       "    </tr>\n",
       "    <tr>\n",
       "      <th>2</th>\n",
       "      <td>2003-01-06</td>\n",
       "      <td>1.95</td>\n",
       "    </tr>\n",
       "    <tr>\n",
       "      <th>3</th>\n",
       "      <td>2003-01-07</td>\n",
       "      <td>1.96</td>\n",
       "    </tr>\n",
       "    <tr>\n",
       "      <th>4</th>\n",
       "      <td>2003-01-08</td>\n",
       "      <td>2.09</td>\n",
       "    </tr>\n",
       "  </tbody>\n",
       "</table>\n",
       "</div>"
      ],
      "text/plain": [
       "         DATE T5YIFR\n",
       "0  2003-01-02   1.98\n",
       "1  2003-01-03   1.96\n",
       "2  2003-01-06   1.95\n",
       "3  2003-01-07   1.96\n",
       "4  2003-01-08   2.09"
      ]
     },
     "execution_count": 66,
     "metadata": {},
     "output_type": "execute_result"
    }
   ],
   "source": [
    "df_InflExp=pd.read_csv(path+\"Data - Raw\\\\\"+\"T5YIFR.csv\")\n",
    "df_InflExp.head()"
   ]
  },
  {
   "cell_type": "code",
   "execution_count": 67,
   "id": "fe050901",
   "metadata": {
    "scrolled": true
   },
   "outputs": [
    {
     "name": "stdout",
     "output_type": "stream",
     "text": [
      "<class 'pandas.core.frame.DataFrame'>\n",
      "RangeIndex: 4912 entries, 0 to 4911\n",
      "Data columns (total 2 columns):\n",
      " #   Column  Non-Null Count  Dtype \n",
      "---  ------  --------------  ----- \n",
      " 0   DATE    4912 non-null   object\n",
      " 1   T5YIFR  4912 non-null   object\n",
      "dtypes: object(2)\n",
      "memory usage: 76.9+ KB\n"
     ]
    }
   ],
   "source": [
    "df_InflExp.info()"
   ]
  },
  {
   "cell_type": "code",
   "execution_count": 68,
   "id": "26300d2e",
   "metadata": {
    "scrolled": true
   },
   "outputs": [
    {
     "data": {
      "text/html": [
       "<div>\n",
       "<style scoped>\n",
       "    .dataframe tbody tr th:only-of-type {\n",
       "        vertical-align: middle;\n",
       "    }\n",
       "\n",
       "    .dataframe tbody tr th {\n",
       "        vertical-align: top;\n",
       "    }\n",
       "\n",
       "    .dataframe thead th {\n",
       "        text-align: right;\n",
       "    }\n",
       "</style>\n",
       "<table border=\"1\" class=\"dataframe\">\n",
       "  <thead>\n",
       "    <tr style=\"text-align: right;\">\n",
       "      <th></th>\n",
       "      <th>DATE</th>\n",
       "      <th>T5YIFR</th>\n",
       "    </tr>\n",
       "  </thead>\n",
       "  <tbody>\n",
       "    <tr>\n",
       "      <th>12</th>\n",
       "      <td>2003-01-20</td>\n",
       "      <td>.</td>\n",
       "    </tr>\n",
       "    <tr>\n",
       "      <th>32</th>\n",
       "      <td>2003-02-17</td>\n",
       "      <td>.</td>\n",
       "    </tr>\n",
       "    <tr>\n",
       "      <th>76</th>\n",
       "      <td>2003-04-18</td>\n",
       "      <td>.</td>\n",
       "    </tr>\n",
       "    <tr>\n",
       "      <th>102</th>\n",
       "      <td>2003-05-26</td>\n",
       "      <td>.</td>\n",
       "    </tr>\n",
       "    <tr>\n",
       "      <th>131</th>\n",
       "      <td>2003-07-04</td>\n",
       "      <td>.</td>\n",
       "    </tr>\n",
       "    <tr>\n",
       "      <th>...</th>\n",
       "      <td>...</td>\n",
       "      <td>...</td>\n",
       "    </tr>\n",
       "    <tr>\n",
       "      <th>4727</th>\n",
       "      <td>2021-02-15</td>\n",
       "      <td>.</td>\n",
       "    </tr>\n",
       "    <tr>\n",
       "      <th>4802</th>\n",
       "      <td>2021-05-31</td>\n",
       "      <td>.</td>\n",
       "    </tr>\n",
       "    <tr>\n",
       "      <th>4827</th>\n",
       "      <td>2021-07-05</td>\n",
       "      <td>.</td>\n",
       "    </tr>\n",
       "    <tr>\n",
       "      <th>4872</th>\n",
       "      <td>2021-09-06</td>\n",
       "      <td>.</td>\n",
       "    </tr>\n",
       "    <tr>\n",
       "      <th>4897</th>\n",
       "      <td>2021-10-11</td>\n",
       "      <td>.</td>\n",
       "    </tr>\n",
       "  </tbody>\n",
       "</table>\n",
       "<p>199 rows × 2 columns</p>\n",
       "</div>"
      ],
      "text/plain": [
       "            DATE T5YIFR\n",
       "12    2003-01-20      .\n",
       "32    2003-02-17      .\n",
       "76    2003-04-18      .\n",
       "102   2003-05-26      .\n",
       "131   2003-07-04      .\n",
       "...          ...    ...\n",
       "4727  2021-02-15      .\n",
       "4802  2021-05-31      .\n",
       "4827  2021-07-05      .\n",
       "4872  2021-09-06      .\n",
       "4897  2021-10-11      .\n",
       "\n",
       "[199 rows x 2 columns]"
      ]
     },
     "execution_count": 68,
     "metadata": {},
     "output_type": "execute_result"
    }
   ],
   "source": [
    "df_InflExp[(df_InflExp[\"T5YIFR\"]==\".\")] # Federal Holidays"
   ]
  },
  {
   "cell_type": "code",
   "execution_count": 69,
   "id": "9faad7e3",
   "metadata": {},
   "outputs": [
    {
     "data": {
      "text/html": [
       "<div>\n",
       "<style scoped>\n",
       "    .dataframe tbody tr th:only-of-type {\n",
       "        vertical-align: middle;\n",
       "    }\n",
       "\n",
       "    .dataframe tbody tr th {\n",
       "        vertical-align: top;\n",
       "    }\n",
       "\n",
       "    .dataframe thead th {\n",
       "        text-align: right;\n",
       "    }\n",
       "</style>\n",
       "<table border=\"1\" class=\"dataframe\">\n",
       "  <thead>\n",
       "    <tr style=\"text-align: right;\">\n",
       "      <th></th>\n",
       "      <th>DATE</th>\n",
       "      <th>T5YIFR</th>\n",
       "    </tr>\n",
       "  </thead>\n",
       "  <tbody>\n",
       "  </tbody>\n",
       "</table>\n",
       "</div>"
      ],
      "text/plain": [
       "Empty DataFrame\n",
       "Columns: [DATE, T5YIFR]\n",
       "Index: []"
      ]
     },
     "execution_count": 69,
     "metadata": {},
     "output_type": "execute_result"
    }
   ],
   "source": [
    "df_InflExp[(df_InflExp[\"T5YIFR\"].isnull())] # no NaN"
   ]
  },
  {
   "cell_type": "code",
   "execution_count": 70,
   "id": "78eadb1b",
   "metadata": {},
   "outputs": [],
   "source": [
    "df_InflExp=df_InflExp[(df_InflExp[\"T5YIFR\"]!=\".\")]"
   ]
  },
  {
   "cell_type": "code",
   "execution_count": 71,
   "id": "8213c8d8",
   "metadata": {},
   "outputs": [
    {
     "name": "stdout",
     "output_type": "stream",
     "text": [
      "<class 'pandas.core.frame.DataFrame'>\n",
      "Int64Index: 4713 entries, 0 to 4911\n",
      "Data columns (total 2 columns):\n",
      " #   Column  Non-Null Count  Dtype \n",
      "---  ------  --------------  ----- \n",
      " 0   DATE    4713 non-null   object\n",
      " 1   T5YIFR  4713 non-null   object\n",
      "dtypes: object(2)\n",
      "memory usage: 110.5+ KB\n"
     ]
    }
   ],
   "source": [
    "df_InflExp.info()"
   ]
  },
  {
   "cell_type": "code",
   "execution_count": 72,
   "id": "c4e57784",
   "metadata": {},
   "outputs": [],
   "source": [
    "df_InflExp[\"T5YIFR\"]=df_InflExp[\"T5YIFR\"].astype(float)"
   ]
  },
  {
   "cell_type": "code",
   "execution_count": 73,
   "id": "0f32bd5b",
   "metadata": {},
   "outputs": [],
   "source": [
    "df_InflExp['DATE']=pd.to_datetime(df_InflExp['DATE'], format='%Y-%m-%d')"
   ]
  },
  {
   "cell_type": "code",
   "execution_count": 74,
   "id": "ef38fdf7",
   "metadata": {
    "scrolled": true
   },
   "outputs": [
    {
     "name": "stdout",
     "output_type": "stream",
     "text": [
      "<class 'pandas.core.frame.DataFrame'>\n",
      "Int64Index: 4713 entries, 0 to 4911\n",
      "Data columns (total 2 columns):\n",
      " #   Column  Non-Null Count  Dtype         \n",
      "---  ------  --------------  -----         \n",
      " 0   DATE    4713 non-null   datetime64[ns]\n",
      " 1   T5YIFR  4713 non-null   float64       \n",
      "dtypes: datetime64[ns](1), float64(1)\n",
      "memory usage: 110.5 KB\n"
     ]
    }
   ],
   "source": [
    "df_InflExp.info()"
   ]
  },
  {
   "cell_type": "code",
   "execution_count": 75,
   "id": "a8813562",
   "metadata": {},
   "outputs": [],
   "source": [
    "df_InflExp[\"Changes of T5YIFR\"]=df_InflExp[\"T5YIFR\"].diff(periods=1)"
   ]
  },
  {
   "cell_type": "code",
   "execution_count": 76,
   "id": "531c44bc",
   "metadata": {
    "scrolled": false
   },
   "outputs": [
    {
     "data": {
      "text/html": [
       "<div>\n",
       "<style scoped>\n",
       "    .dataframe tbody tr th:only-of-type {\n",
       "        vertical-align: middle;\n",
       "    }\n",
       "\n",
       "    .dataframe tbody tr th {\n",
       "        vertical-align: top;\n",
       "    }\n",
       "\n",
       "    .dataframe thead th {\n",
       "        text-align: right;\n",
       "    }\n",
       "</style>\n",
       "<table border=\"1\" class=\"dataframe\">\n",
       "  <thead>\n",
       "    <tr style=\"text-align: right;\">\n",
       "      <th></th>\n",
       "      <th>DATE</th>\n",
       "      <th>T5YIFR</th>\n",
       "      <th>Changes of T5YIFR</th>\n",
       "    </tr>\n",
       "  </thead>\n",
       "  <tbody>\n",
       "    <tr>\n",
       "      <th>0</th>\n",
       "      <td>2003-01-02</td>\n",
       "      <td>1.98</td>\n",
       "      <td>NaN</td>\n",
       "    </tr>\n",
       "    <tr>\n",
       "      <th>1</th>\n",
       "      <td>2003-01-03</td>\n",
       "      <td>1.96</td>\n",
       "      <td>-0.02</td>\n",
       "    </tr>\n",
       "    <tr>\n",
       "      <th>2</th>\n",
       "      <td>2003-01-06</td>\n",
       "      <td>1.95</td>\n",
       "      <td>-0.01</td>\n",
       "    </tr>\n",
       "    <tr>\n",
       "      <th>3</th>\n",
       "      <td>2003-01-07</td>\n",
       "      <td>1.96</td>\n",
       "      <td>0.01</td>\n",
       "    </tr>\n",
       "    <tr>\n",
       "      <th>4</th>\n",
       "      <td>2003-01-08</td>\n",
       "      <td>2.09</td>\n",
       "      <td>0.13</td>\n",
       "    </tr>\n",
       "  </tbody>\n",
       "</table>\n",
       "</div>"
      ],
      "text/plain": [
       "        DATE  T5YIFR  Changes of T5YIFR\n",
       "0 2003-01-02    1.98                NaN\n",
       "1 2003-01-03    1.96              -0.02\n",
       "2 2003-01-06    1.95              -0.01\n",
       "3 2003-01-07    1.96               0.01\n",
       "4 2003-01-08    2.09               0.13"
      ]
     },
     "execution_count": 76,
     "metadata": {},
     "output_type": "execute_result"
    }
   ],
   "source": [
    "df_InflExp.head()"
   ]
  },
  {
   "cell_type": "code",
   "execution_count": 77,
   "id": "2f439e77",
   "metadata": {},
   "outputs": [],
   "source": [
    "def dist_to_2(x):\n",
    "    return ((x-2)**2)**0.5\n",
    "def multiclass(sq_dist_dif):\n",
    "    if sq_dist_dif==0:\n",
    "        return 0 # no change\n",
    "    if sq_dist_dif>0:\n",
    "        return 2 # increased the distance relative to objective of 2\n",
    "    if sq_dist_dif<0:\n",
    "        return 1 # decreased the distance relative to objective of 2"
   ]
  },
  {
   "cell_type": "code",
   "execution_count": 78,
   "id": "95724dfe",
   "metadata": {},
   "outputs": [],
   "source": [
    "df_InflExp[\"Distance to 2\"]=df_InflExp[\"T5YIFR\"].apply(dist_to_2)\n",
    "df_InflExp[\"Changes in Distance\"]=df_InflExp[\"Distance to 2\"].diff(periods=1)\n",
    "df_InflExp[\"Classes\"]=df_InflExp[\"Changes in Distance\"].apply(multiclass)\n",
    "df_InflExp[\"T5YIFR Lagged\"]=np.append(np.array([np.nan]),df_InflExp[\"T5YIFR\"][:-1])"
   ]
  },
  {
   "cell_type": "code",
   "execution_count": 79,
   "id": "5ebbe0f4",
   "metadata": {},
   "outputs": [
    {
     "data": {
      "text/html": [
       "<div>\n",
       "<style scoped>\n",
       "    .dataframe tbody tr th:only-of-type {\n",
       "        vertical-align: middle;\n",
       "    }\n",
       "\n",
       "    .dataframe tbody tr th {\n",
       "        vertical-align: top;\n",
       "    }\n",
       "\n",
       "    .dataframe thead th {\n",
       "        text-align: right;\n",
       "    }\n",
       "</style>\n",
       "<table border=\"1\" class=\"dataframe\">\n",
       "  <thead>\n",
       "    <tr style=\"text-align: right;\">\n",
       "      <th></th>\n",
       "      <th>DATE</th>\n",
       "      <th>T5YIFR</th>\n",
       "      <th>Changes of T5YIFR</th>\n",
       "      <th>Distance to 2</th>\n",
       "      <th>Changes in Distance</th>\n",
       "      <th>Classes</th>\n",
       "      <th>T5YIFR Lagged</th>\n",
       "    </tr>\n",
       "  </thead>\n",
       "  <tbody>\n",
       "    <tr>\n",
       "      <th>0</th>\n",
       "      <td>2003-01-02</td>\n",
       "      <td>1.98</td>\n",
       "      <td>NaN</td>\n",
       "      <td>0.02</td>\n",
       "      <td>NaN</td>\n",
       "      <td>NaN</td>\n",
       "      <td>NaN</td>\n",
       "    </tr>\n",
       "  </tbody>\n",
       "</table>\n",
       "</div>"
      ],
      "text/plain": [
       "        DATE  T5YIFR  Changes of T5YIFR  Distance to 2  Changes in Distance  \\\n",
       "0 2003-01-02    1.98                NaN           0.02                  NaN   \n",
       "\n",
       "   Classes  T5YIFR Lagged  \n",
       "0      NaN            NaN  "
      ]
     },
     "execution_count": 79,
     "metadata": {},
     "output_type": "execute_result"
    }
   ],
   "source": [
    "df_InflExp[df_InflExp[\"Changes in Distance\"].isnull()]"
   ]
  },
  {
   "cell_type": "code",
   "execution_count": 80,
   "id": "50128f42",
   "metadata": {},
   "outputs": [],
   "source": [
    "df_InflExp.drop(index=[0],axis=0,inplace=True)"
   ]
  },
  {
   "cell_type": "code",
   "execution_count": 82,
   "id": "1090f41c",
   "metadata": {
    "scrolled": false
   },
   "outputs": [
    {
     "data": {
      "text/plain": [
       "1.0    0.435908\n",
       "2.0    0.435059\n",
       "0.0    0.129032\n",
       "Name: Classes, dtype: float64"
      ]
     },
     "execution_count": 82,
     "metadata": {},
     "output_type": "execute_result"
    }
   ],
   "source": [
    "df_InflExp[\"Classes\"].value_counts(normalize=True) # not vary balanced regarding class 0"
   ]
  },
  {
   "cell_type": "code",
   "execution_count": 84,
   "id": "45b5500f",
   "metadata": {},
   "outputs": [],
   "source": [
    "df_InflExp.to_csv(path+\"Data - Clean\\\\\"+\"InflExp.csv\", index = False)"
   ]
  },
  {
   "cell_type": "markdown",
   "id": "e73fa165",
   "metadata": {},
   "source": [
    "# Consolidating Speeches and Inflation Expectations"
   ]
  },
  {
   "cell_type": "code",
   "execution_count": 85,
   "id": "f83ecb77",
   "metadata": {
    "scrolled": true
   },
   "outputs": [
    {
     "name": "stdout",
     "output_type": "stream",
     "text": [
      "<class 'pandas.core.frame.DataFrame'>\n",
      "RangeIndex: 4712 entries, 0 to 4711\n",
      "Data columns (total 7 columns):\n",
      " #   Column               Non-Null Count  Dtype  \n",
      "---  ------               --------------  -----  \n",
      " 0   DATE                 4712 non-null   object \n",
      " 1   T5YIFR               4712 non-null   float64\n",
      " 2   Changes of T5YIFR    4712 non-null   float64\n",
      " 3   Distance to 2        4712 non-null   float64\n",
      " 4   Changes in Distance  4712 non-null   float64\n",
      " 5   Classes              4712 non-null   float64\n",
      " 6   T5YIFR Lagged        4712 non-null   float64\n",
      "dtypes: float64(6), object(1)\n",
      "memory usage: 257.8+ KB\n"
     ]
    }
   ],
   "source": [
    "df_InflExp=pd.read_csv(path+\"Data - Clean\\\\\"+\"InflExp.csv\")\n",
    "df_InflExp.info()"
   ]
  },
  {
   "cell_type": "code",
   "execution_count": 86,
   "id": "3cf0f34a",
   "metadata": {
    "scrolled": false
   },
   "outputs": [
    {
     "name": "stdout",
     "output_type": "stream",
     "text": [
      "<class 'pandas.core.frame.DataFrame'>\n",
      "RangeIndex: 1236 entries, 0 to 1235\n",
      "Data columns (total 6 columns):\n",
      " #   Column    Non-Null Count  Dtype \n",
      "---  ------    --------------  ----- \n",
      " 0   date      1236 non-null   object\n",
      " 1   link      1236 non-null   object\n",
      " 2   title     1236 non-null   object\n",
      " 3   event     1236 non-null   object\n",
      " 4   text      1236 non-null   object\n",
      " 5   location  1236 non-null   object\n",
      "dtypes: object(6)\n",
      "memory usage: 58.1+ KB\n"
     ]
    }
   ],
   "source": [
    "df_Fed_byDate=pd.read_csv(path+\"Data - Clean\\\\\"+\"Fed_byDate.csv\")\n",
    "df_Fed_byDate.info()"
   ]
  },
  {
   "cell_type": "code",
   "execution_count": 87,
   "id": "cace024d",
   "metadata": {
    "scrolled": true
   },
   "outputs": [
    {
     "data": {
      "text/html": [
       "<div>\n",
       "<style scoped>\n",
       "    .dataframe tbody tr th:only-of-type {\n",
       "        vertical-align: middle;\n",
       "    }\n",
       "\n",
       "    .dataframe tbody tr th {\n",
       "        vertical-align: top;\n",
       "    }\n",
       "\n",
       "    .dataframe thead th {\n",
       "        text-align: right;\n",
       "    }\n",
       "</style>\n",
       "<table border=\"1\" class=\"dataframe\">\n",
       "  <thead>\n",
       "    <tr style=\"text-align: right;\">\n",
       "      <th></th>\n",
       "      <th>date</th>\n",
       "      <th>link</th>\n",
       "      <th>title</th>\n",
       "      <th>event</th>\n",
       "      <th>text</th>\n",
       "      <th>location</th>\n",
       "    </tr>\n",
       "  </thead>\n",
       "  <tbody>\n",
       "    <tr>\n",
       "      <th>0</th>\n",
       "      <td>1996-06-13</td>\n",
       "      <td>https://www.federalreserve.gov/boarddocs/speec...</td>\n",
       "      <td>Bank supervision in a world economy</td>\n",
       "      <td>At the International Conference of Banking Sup...</td>\n",
       "      <td>Remarks by Chairman Alan Greenspan Bank superv...</td>\n",
       "      <td>Sweden</td>\n",
       "    </tr>\n",
       "    <tr>\n",
       "      <th>1</th>\n",
       "      <td>1996-06-18</td>\n",
       "      <td>https://www.federalreserve.gov/boarddocs/speec...</td>\n",
       "      <td>Developments in electronic money and banking</td>\n",
       "      <td>At the CyberPayments '96 Conference, Dallas, T...</td>\n",
       "      <td>Remarks by Governor Edward W. Kelley, Jr. Deve...</td>\n",
       "      <td>Texas</td>\n",
       "    </tr>\n",
       "    <tr>\n",
       "      <th>2</th>\n",
       "      <td>1996-09-08</td>\n",
       "      <td>https://www.federalreserve.gov/boarddocs/speec...</td>\n",
       "      <td>Monetary policy objectives and strategy</td>\n",
       "      <td>At the National Association of Business Econom...</td>\n",
       "      <td>Monetary Policy Objectives and Strategy  I wan...</td>\n",
       "      <td>Massachusetts</td>\n",
       "    </tr>\n",
       "    <tr>\n",
       "      <th>3</th>\n",
       "      <td>1996-09-19</td>\n",
       "      <td>https://www.federalreserve.gov/boarddocs/speec...</td>\n",
       "      <td>Regulation and electronic payment systems</td>\n",
       "      <td>At the U.S. Treasury Conference on Electronic ...</td>\n",
       "      <td>Remarks by Chairman Alan Greenspan Regulation ...</td>\n",
       "      <td>D.C.</td>\n",
       "    </tr>\n",
       "    <tr>\n",
       "      <th>4</th>\n",
       "      <td>1996-10-02</td>\n",
       "      <td>https://www.federalreserve.gov/boarddocs/speec...</td>\n",
       "      <td>Small business is big business</td>\n",
       "      <td>At the Small Business Development Conference, ...</td>\n",
       "      <td>Remarks by Governor Lawrence B. Lindsey At the...</td>\n",
       "      <td>Virginia</td>\n",
       "    </tr>\n",
       "  </tbody>\n",
       "</table>\n",
       "</div>"
      ],
      "text/plain": [
       "         date                                               link  \\\n",
       "0  1996-06-13  https://www.federalreserve.gov/boarddocs/speec...   \n",
       "1  1996-06-18  https://www.federalreserve.gov/boarddocs/speec...   \n",
       "2  1996-09-08  https://www.federalreserve.gov/boarddocs/speec...   \n",
       "3  1996-09-19  https://www.federalreserve.gov/boarddocs/speec...   \n",
       "4  1996-10-02  https://www.federalreserve.gov/boarddocs/speec...   \n",
       "\n",
       "                                          title  \\\n",
       "0           Bank supervision in a world economy   \n",
       "1  Developments in electronic money and banking   \n",
       "2       Monetary policy objectives and strategy   \n",
       "3     Regulation and electronic payment systems   \n",
       "4                Small business is big business   \n",
       "\n",
       "                                               event  \\\n",
       "0  At the International Conference of Banking Sup...   \n",
       "1  At the CyberPayments '96 Conference, Dallas, T...   \n",
       "2  At the National Association of Business Econom...   \n",
       "3  At the U.S. Treasury Conference on Electronic ...   \n",
       "4  At the Small Business Development Conference, ...   \n",
       "\n",
       "                                                text       location  \n",
       "0  Remarks by Chairman Alan Greenspan Bank superv...         Sweden  \n",
       "1  Remarks by Governor Edward W. Kelley, Jr. Deve...          Texas  \n",
       "2  Monetary Policy Objectives and Strategy  I wan...  Massachusetts  \n",
       "3  Remarks by Chairman Alan Greenspan Regulation ...           D.C.  \n",
       "4  Remarks by Governor Lawrence B. Lindsey At the...       Virginia  "
      ]
     },
     "execution_count": 87,
     "metadata": {},
     "output_type": "execute_result"
    }
   ],
   "source": [
    "df_Fed_byDate.head()"
   ]
  },
  {
   "cell_type": "code",
   "execution_count": 88,
   "id": "effae6ac",
   "metadata": {},
   "outputs": [],
   "source": [
    "df_Fed_merged=pd.merge(left=df_Fed_byDate,\n",
    "                       right=df_InflExp,\n",
    "                       how=\"inner\",\n",
    "                       left_on=[\"date\"],\n",
    "                       right_on=[\"DATE\"])"
   ]
  },
  {
   "cell_type": "code",
   "execution_count": 89,
   "id": "c284148d",
   "metadata": {},
   "outputs": [
    {
     "data": {
      "text/plain": [
       "(855, 13)"
      ]
     },
     "execution_count": 89,
     "metadata": {},
     "output_type": "execute_result"
    }
   ],
   "source": [
    "df_Fed_merged.shape # I seem to lose some 60 texts here. \n",
    "# Probably done during the holidays, or when there's no data for T5YIFR"
   ]
  },
  {
   "cell_type": "code",
   "execution_count": 90,
   "id": "16387c13",
   "metadata": {},
   "outputs": [],
   "source": [
    "# df_Fed_merged[df_Fed_merged[\"Classes\"].isnull()] #-> returns empty df"
   ]
  },
  {
   "cell_type": "code",
   "execution_count": 91,
   "id": "9432d230",
   "metadata": {},
   "outputs": [],
   "source": [
    "df_Fed_merged.to_csv(path+\"Data - Clean\\\\\"+\"Fed_merged.csv\", index = False)"
   ]
  },
  {
   "cell_type": "code",
   "execution_count": null,
   "id": "1f3011a3",
   "metadata": {},
   "outputs": [],
   "source": []
  }
 ],
 "metadata": {
  "kernelspec": {
   "display_name": "Python 3",
   "language": "python",
   "name": "python3"
  },
  "language_info": {
   "codemirror_mode": {
    "name": "ipython",
    "version": 3
   },
   "file_extension": ".py",
   "mimetype": "text/x-python",
   "name": "python",
   "nbconvert_exporter": "python",
   "pygments_lexer": "ipython3",
   "version": "3.8.8"
  }
 },
 "nbformat": 4,
 "nbformat_minor": 5
}
