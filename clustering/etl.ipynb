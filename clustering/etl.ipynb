{
 "cells": [
  {
   "attachments": {},
   "cell_type": "markdown",
   "metadata": {},
   "source": [
    "This module is called ETL, since we're doing extraction from a semi-structured data source, doing some minor transformations and then saving the data in a structured format (pandas dataframe).\n",
    "\n",
    "At the same time, I'll be doing some minor EDA to get a sense of the data characteristics. Since we're in an unsupervise setting, there's no need for a split train-test at this juncture. "
   ]
  },
  {
   "cell_type": "code",
   "execution_count": 21,
   "metadata": {},
   "outputs": [],
   "source": [
    "import pandas as pd\n",
    "import numpy as np\n",
    "import matplotlib.pyplot as plt\n",
    "import os\n",
    "import sklearn"
   ]
  },
  {
   "attachments": {},
   "cell_type": "markdown",
   "metadata": {},
   "source": [
    "# Extracting Reviews from source"
   ]
  },
  {
   "cell_type": "code",
   "execution_count": 37,
   "metadata": {},
   "outputs": [
    {
     "name": "stdout",
     "output_type": "stream",
     "text": [
      "My current directory is : /home/ivo/Trabalho/Interviews/Siemens/task_1\n"
     ]
    }
   ],
   "source": [
    "cwd_path = os.getcwd()\n",
    "print(\"My current directory is : \" + cwd_path)\n",
    "path = os.path.dirname(cwd_path)\n",
    "data_path = path+\"/data\""
   ]
  },
  {
   "cell_type": "code",
   "execution_count": 13,
   "metadata": {},
   "outputs": [],
   "source": [
    "df = pd.read_csv (\"../reviews.txt\",delimiter=\"\\\\n\", header=None,\n",
    "                  engine='python',names=[\"Reviews\"])"
   ]
  },
  {
   "cell_type": "code",
   "execution_count": 14,
   "metadata": {},
   "outputs": [
    {
     "data": {
      "text/html": [
       "<div>\n",
       "<style scoped>\n",
       "    .dataframe tbody tr th:only-of-type {\n",
       "        vertical-align: middle;\n",
       "    }\n",
       "\n",
       "    .dataframe tbody tr th {\n",
       "        vertical-align: top;\n",
       "    }\n",
       "\n",
       "    .dataframe thead th {\n",
       "        text-align: right;\n",
       "    }\n",
       "</style>\n",
       "<table border=\"1\" class=\"dataframe\">\n",
       "  <thead>\n",
       "    <tr style=\"text-align: right;\">\n",
       "      <th></th>\n",
       "      <th>Reviews</th>\n",
       "    </tr>\n",
       "  </thead>\n",
       "  <tbody>\n",
       "    <tr>\n",
       "      <th>0</th>\n",
       "      <td>I needed a set of jumper cables for my new car...</td>\n",
       "    </tr>\n",
       "    <tr>\n",
       "      <th>1</th>\n",
       "      <td>These long cables work fine for my truck, but ...</td>\n",
       "    </tr>\n",
       "    <tr>\n",
       "      <th>2</th>\n",
       "      <td>Can't comment much on these since they have no...</td>\n",
       "    </tr>\n",
       "    <tr>\n",
       "      <th>3</th>\n",
       "      <td>I absolutley love Amazon!!!  For the price of ...</td>\n",
       "    </tr>\n",
       "    <tr>\n",
       "      <th>4</th>\n",
       "      <td>I purchased the 12' feet long cable set and th...</td>\n",
       "    </tr>\n",
       "  </tbody>\n",
       "</table>\n",
       "</div>"
      ],
      "text/plain": [
       "                                             Reviews\n",
       "0  I needed a set of jumper cables for my new car...\n",
       "1  These long cables work fine for my truck, but ...\n",
       "2  Can't comment much on these since they have no...\n",
       "3  I absolutley love Amazon!!!  For the price of ...\n",
       "4  I purchased the 12' feet long cable set and th..."
      ]
     },
     "execution_count": 14,
     "metadata": {},
     "output_type": "execute_result"
    }
   ],
   "source": [
    "df.head()"
   ]
  },
  {
   "cell_type": "code",
   "execution_count": 28,
   "metadata": {},
   "outputs": [
    {
     "data": {
      "text/plain": [
       "'I absolutley love Amazon!!!  For the price of a set of cheap Booster/Jumper Cables in a brick and morter store, you can buy extra long and heavy duty jumpers!  First off, don\\'t be the person that not only needs to ask a kind passer-by for a \"jump\" but also if they have jumper cables.  It\\'s MUCH easier to get a jump start if you have your own cables.Next lets talk about sizing.  Having the longest cable possible is a major plus if your car is parked up against something like a pole or wall, or even parked on a one way street.  The \"booster car\" (the car w/o a dead battery) can pull in close enough to use the cables without having to manuver into some akward position.  Or better yet, you won\\'t have to push your vehicle into a position to be jumped.  If your diving a normal sized car they can even pull in behind you to jump you!  Or if their vehicle is the shorter of the two, they could pull in front.  Now how about gauge?  For those who aren\\'t electricians or engineers, as the number value of gauge decreases, the size and capacity of the cable increases.  So for example 6-ga has about twice as much copper wire as 8-ga, and 4-ga is a about twice as much as 6-ga, so on and so on.  That doesn\\'t mean you double the capacity of wire with every two numbers though.  4-gauge may sound like a lot but it really isn\\'t.The technical stuff.  Don\\'t worry if this doesn\\'t make sense, you don\\'t really need to know all of this, but I\\'m trying to make a point as to why to get the longest and heavist cables you can.  I\\'m not an electrican but I\\'ve worked with it long enough to know a few general rules of thumb.  First of the enemy of electricty is resistance.  Resistance ultimately determines the load a particular wire can carry.  Five things factor into resistance.  Temperature, conductor, voltage, load, and distance.  Temp we can\\'t control, so we have to assume the worst (HOT)...or in other words need heavier cable.  Conductor should be copper, or at least a high purity mix of copper...good there.  Voltage...12VDC is a low voltage system...probably the biggest problem we face.  Since is a low voltage system we have to contend with voltage drop as it travels over the wire.  The higher the voltage, the longer it can run with acceptable levels of voltage drop over a particular gauge wire...so again since it\\'s low voltage need heavier gauge wire.  Load (Amperage)...it\\'s a car starter so it takes A LOT of power.  The voltage is a fixed number (more or less) so Amperage is determined by the size of the engine your trying to start.  And you\\'d be surprised how high that can be.  Even a small engine can be well over 300 Cranking Amps.  That said even a \"dead\" battery will put out some power.  As for distance...this cables selling point is also a draw back.  25\\' is LONG run for 12VDC.  So like I said in the last line 4-ga isn\\'t as much as you think.  In fact, if you have an engine over 6-liters you should really consider 2-ga for this distance.  So summing up in layman\\'s terms...considering the hot temperatures outside, the fact that it\\'s 12VDC and we need a long cable, and that we\\'re trying to start a car engine (which takes a LOT of power) these are the ONLY cables I could reccomend for anyone driving a small car up to a light truck.Lets talk about how to properly start a car with a drained battery.  Make sure the LAST connection make is the NEG clamp to the \"dead\" car on a frame ground (something metal and NOT MOVING or GOING TO MOVE in the engine compartment.)  Don\\'t attach it directly to the battery\\'s NEG post.  Next lightly rev the engine of the running vehicle for 3 to 5 minutes.  This will put a bit of a surface charge on the dead battery.  Then attempt to start the car.  As soon as it starts remove the cables (starting with the NEG on the car being jumped.)  If you ever have a dead battery for any reason...take it to an auto parts store as soon as possible and have it tested to make sure it still holds a proper charge.  Most places do it for free.  NEVER touch the clamps together once connected to a battery!!!  Doing so could damage you vehicles electrical system, and/or cause fire, burns, explosion of the battery, damages to your cables...A couple of final thoughts.  Protect your investment.  I bought a cable bag that works really well to keep them from getting tangled with everything in my trunk.  Also keep the twist ties that come with them which will keep them organized inside the cable bag.  And once used, take them home and clean and dry them before storing them once again.  The oils inside of engine compartments can be corrosive to rubber jackets and copper contacts.  These cables are more than worth they weight in gold!  They are inexpensive and top notch quality!'"
      ]
     },
     "execution_count": 28,
     "metadata": {},
     "output_type": "execute_result"
    }
   ],
   "source": [
    "df.loc[3].Reviews"
   ]
  },
  {
   "attachments": {},
   "cell_type": "markdown",
   "metadata": {},
   "source": [
    "The main topic of the reviews seems to be about cables, jumper cables to be more specific."
   ]
  },
  {
   "cell_type": "code",
   "execution_count": 24,
   "metadata": {},
   "outputs": [],
   "source": [
    "df[\"length\"]=df.Reviews.apply(lambda x: len(x.split()))\n",
    "# we're doing a counting of words for each review. We should check for some odd occurrences."
   ]
  },
  {
   "cell_type": "code",
   "execution_count": 25,
   "metadata": {},
   "outputs": [
    {
     "data": {
      "text/plain": [
       "count    20453.000000\n",
       "mean        85.371388\n",
       "std         99.553678\n",
       "min          1.000000\n",
       "25%         31.000000\n",
       "50%         52.000000\n",
       "75%         99.000000\n",
       "max       2239.000000\n",
       "Name: length, dtype: float64"
      ]
     },
     "execution_count": 25,
     "metadata": {},
     "output_type": "execute_result"
    }
   ],
   "source": [
    "df[\"length\"].describe()"
   ]
  },
  {
   "attachments": {},
   "cell_type": "markdown",
   "metadata": {},
   "source": [
    "We clearly have some extreme values. We have a review with just 1 word, and then with 2239 words."
   ]
  },
  {
   "cell_type": "code",
   "execution_count": 29,
   "metadata": {},
   "outputs": [
    {
     "data": {
      "text/html": [
       "<div>\n",
       "<style scoped>\n",
       "    .dataframe tbody tr th:only-of-type {\n",
       "        vertical-align: middle;\n",
       "    }\n",
       "\n",
       "    .dataframe tbody tr th {\n",
       "        vertical-align: top;\n",
       "    }\n",
       "\n",
       "    .dataframe thead th {\n",
       "        text-align: right;\n",
       "    }\n",
       "</style>\n",
       "<table border=\"1\" class=\"dataframe\">\n",
       "  <thead>\n",
       "    <tr style=\"text-align: right;\">\n",
       "      <th></th>\n",
       "      <th>Reviews</th>\n",
       "      <th>length</th>\n",
       "    </tr>\n",
       "  </thead>\n",
       "  <tbody>\n",
       "    <tr>\n",
       "      <th>654</th>\n",
       "      <td>OK</td>\n",
       "      <td>1</td>\n",
       "    </tr>\n",
       "    <tr>\n",
       "      <th>806</th>\n",
       "      <td>CHEEP</td>\n",
       "      <td>1</td>\n",
       "    </tr>\n",
       "    <tr>\n",
       "      <th>10022</th>\n",
       "      <td>Good.</td>\n",
       "      <td>1</td>\n",
       "    </tr>\n",
       "  </tbody>\n",
       "</table>\n",
       "</div>"
      ],
      "text/plain": [
       "      Reviews  length\n",
       "654        OK       1\n",
       "806     CHEEP       1\n",
       "10022   Good.       1"
      ]
     },
     "execution_count": 29,
     "metadata": {},
     "output_type": "execute_result"
    }
   ],
   "source": [
    "df[df[\"length\"]==1]"
   ]
  },
  {
   "attachments": {},
   "cell_type": "markdown",
   "metadata": {},
   "source": [
    "These seem to be valid reviews."
   ]
  },
  {
   "cell_type": "code",
   "execution_count": 30,
   "metadata": {},
   "outputs": [
    {
     "data": {
      "text/html": [
       "<div>\n",
       "<style scoped>\n",
       "    .dataframe tbody tr th:only-of-type {\n",
       "        vertical-align: middle;\n",
       "    }\n",
       "\n",
       "    .dataframe tbody tr th {\n",
       "        vertical-align: top;\n",
       "    }\n",
       "\n",
       "    .dataframe thead th {\n",
       "        text-align: right;\n",
       "    }\n",
       "</style>\n",
       "<table border=\"1\" class=\"dataframe\">\n",
       "  <thead>\n",
       "    <tr style=\"text-align: right;\">\n",
       "      <th></th>\n",
       "      <th>Reviews</th>\n",
       "      <th>length</th>\n",
       "    </tr>\n",
       "  </thead>\n",
       "  <tbody>\n",
       "    <tr>\n",
       "      <th>2469</th>\n",
       "      <td>WHEN TO USE EPOXY CEMENTWhen you need a strong...</td>\n",
       "      <td>2239</td>\n",
       "    </tr>\n",
       "    <tr>\n",
       "      <th>3050</th>\n",
       "      <td>Another reviewer mentioned this charger puts o...</td>\n",
       "      <td>1280</td>\n",
       "    </tr>\n",
       "    <tr>\n",
       "      <th>3922</th>\n",
       "      <td>Although usually sold for automobile bulb sock...</td>\n",
       "      <td>1088</td>\n",
       "    </tr>\n",
       "    <tr>\n",
       "      <th>4420</th>\n",
       "      <td>People need to understand about motor oil to m...</td>\n",
       "      <td>1799</td>\n",
       "    </tr>\n",
       "    <tr>\n",
       "      <th>5420</th>\n",
       "      <td>There is a large family of Goop adhesives, \"Al...</td>\n",
       "      <td>1106</td>\n",
       "    </tr>\n",
       "    <tr>\n",
       "      <th>8349</th>\n",
       "      <td>Consider this...  The combine cost of your tow...</td>\n",
       "      <td>1153</td>\n",
       "    </tr>\n",
       "    <tr>\n",
       "      <th>12059</th>\n",
       "      <td>First, this is a good product if you want to t...</td>\n",
       "      <td>2049</td>\n",
       "    </tr>\n",
       "    <tr>\n",
       "      <th>14987</th>\n",
       "      <td>I know the seats in my wife and I's cars have ...</td>\n",
       "      <td>1046</td>\n",
       "    </tr>\n",
       "    <tr>\n",
       "      <th>14999</th>\n",
       "      <td>In an attempt to keep my new leather dash from...</td>\n",
       "      <td>1037</td>\n",
       "    </tr>\n",
       "    <tr>\n",
       "      <th>15332</th>\n",
       "      <td>Edit: I had the jack for about 3 weeks, used i...</td>\n",
       "      <td>1167</td>\n",
       "    </tr>\n",
       "    <tr>\n",
       "      <th>16313</th>\n",
       "      <td>**UPDATE I recently installed a set of these o...</td>\n",
       "      <td>1034</td>\n",
       "    </tr>\n",
       "    <tr>\n",
       "      <th>18810</th>\n",
       "      <td>Having started from scratch in my parent's gar...</td>\n",
       "      <td>1040</td>\n",
       "    </tr>\n",
       "    <tr>\n",
       "      <th>18984</th>\n",
       "      <td>The Innova 3130c is claimed to be a full-featu...</td>\n",
       "      <td>1016</td>\n",
       "    </tr>\n",
       "    <tr>\n",
       "      <th>20216</th>\n",
       "      <td>Note: This review is based off of the app vers...</td>\n",
       "      <td>1043</td>\n",
       "    </tr>\n",
       "    <tr>\n",
       "      <th>20217</th>\n",
       "      <td>Automatic is the \"Smart Driving Assistant\" tha...</td>\n",
       "      <td>1324</td>\n",
       "    </tr>\n",
       "    <tr>\n",
       "      <th>20251</th>\n",
       "      <td>Quick Summary Review:I have both the Zubie and...</td>\n",
       "      <td>1004</td>\n",
       "    </tr>\n",
       "  </tbody>\n",
       "</table>\n",
       "</div>"
      ],
      "text/plain": [
       "                                                 Reviews  length\n",
       "2469   WHEN TO USE EPOXY CEMENTWhen you need a strong...    2239\n",
       "3050   Another reviewer mentioned this charger puts o...    1280\n",
       "3922   Although usually sold for automobile bulb sock...    1088\n",
       "4420   People need to understand about motor oil to m...    1799\n",
       "5420   There is a large family of Goop adhesives, \"Al...    1106\n",
       "8349   Consider this...  The combine cost of your tow...    1153\n",
       "12059  First, this is a good product if you want to t...    2049\n",
       "14987  I know the seats in my wife and I's cars have ...    1046\n",
       "14999  In an attempt to keep my new leather dash from...    1037\n",
       "15332  Edit: I had the jack for about 3 weeks, used i...    1167\n",
       "16313  **UPDATE I recently installed a set of these o...    1034\n",
       "18810  Having started from scratch in my parent's gar...    1040\n",
       "18984  The Innova 3130c is claimed to be a full-featu...    1016\n",
       "20216  Note: This review is based off of the app vers...    1043\n",
       "20217  Automatic is the \"Smart Driving Assistant\" tha...    1324\n",
       "20251  Quick Summary Review:I have both the Zubie and...    1004"
      ]
     },
     "execution_count": 30,
     "metadata": {},
     "output_type": "execute_result"
    }
   ],
   "source": [
    "df[df[\"length\"]>1000]"
   ]
  },
  {
   "attachments": {},
   "cell_type": "markdown",
   "metadata": {},
   "source": [
    "It seems that in fact, we have a miscellanea of products being reviewed. From motor oil to cement... \n",
    "It would have made more sense to gather separatly reviews for different products."
   ]
  },
  {
   "cell_type": "code",
   "execution_count": 33,
   "metadata": {},
   "outputs": [
    {
     "data": {
      "text/html": [
       "<div>\n",
       "<style scoped>\n",
       "    .dataframe tbody tr th:only-of-type {\n",
       "        vertical-align: middle;\n",
       "    }\n",
       "\n",
       "    .dataframe tbody tr th {\n",
       "        vertical-align: top;\n",
       "    }\n",
       "\n",
       "    .dataframe thead th {\n",
       "        text-align: right;\n",
       "    }\n",
       "</style>\n",
       "<table border=\"1\" class=\"dataframe\">\n",
       "  <thead>\n",
       "    <tr style=\"text-align: right;\">\n",
       "      <th></th>\n",
       "      <th>Reviews</th>\n",
       "      <th>length</th>\n",
       "    </tr>\n",
       "  </thead>\n",
       "  <tbody>\n",
       "    <tr>\n",
       "      <th>1</th>\n",
       "      <td>These long cables work fine for my truck, but ...</td>\n",
       "      <td>51</td>\n",
       "    </tr>\n",
       "    <tr>\n",
       "      <th>4</th>\n",
       "      <td>I purchased the 12' feet long cable set and th...</td>\n",
       "      <td>77</td>\n",
       "    </tr>\n",
       "    <tr>\n",
       "      <th>6</th>\n",
       "      <td>bought these for my k2500 suburban plenty of l...</td>\n",
       "      <td>58</td>\n",
       "    </tr>\n",
       "    <tr>\n",
       "      <th>8</th>\n",
       "      <td>The Coleman Cable 08665 12-Feet Heavy-Duty Tru...</td>\n",
       "      <td>38</td>\n",
       "    </tr>\n",
       "    <tr>\n",
       "      <th>9</th>\n",
       "      <td>I have an old car, Its bound to need these som...</td>\n",
       "      <td>61</td>\n",
       "    </tr>\n",
       "    <tr>\n",
       "      <th>...</th>\n",
       "      <td>...</td>\n",
       "      <td>...</td>\n",
       "    </tr>\n",
       "    <tr>\n",
       "      <th>20421</th>\n",
       "      <td>I recently purchased 2 luxury Italian leather ...</td>\n",
       "      <td>57</td>\n",
       "    </tr>\n",
       "    <tr>\n",
       "      <th>20429</th>\n",
       "      <td>To me these LED lights are artistic and cool. ...</td>\n",
       "      <td>72</td>\n",
       "    </tr>\n",
       "    <tr>\n",
       "      <th>20432</th>\n",
       "      <td>These LED strip lights are well made and work ...</td>\n",
       "      <td>67</td>\n",
       "    </tr>\n",
       "    <tr>\n",
       "      <th>20440</th>\n",
       "      <td>We've never had a product like this before, bu...</td>\n",
       "      <td>63</td>\n",
       "    </tr>\n",
       "    <tr>\n",
       "      <th>20442</th>\n",
       "      <td>Nice addition to the interior of any hot teens...</td>\n",
       "      <td>89</td>\n",
       "    </tr>\n",
       "  </tbody>\n",
       "</table>\n",
       "<p>10018 rows × 2 columns</p>\n",
       "</div>"
      ],
      "text/plain": [
       "                                                 Reviews  length\n",
       "1      These long cables work fine for my truck, but ...      51\n",
       "4      I purchased the 12' feet long cable set and th...      77\n",
       "6      bought these for my k2500 suburban plenty of l...      58\n",
       "8      The Coleman Cable 08665 12-Feet Heavy-Duty Tru...      38\n",
       "9      I have an old car, Its bound to need these som...      61\n",
       "...                                                  ...     ...\n",
       "20421  I recently purchased 2 luxury Italian leather ...      57\n",
       "20429  To me these LED lights are artistic and cool. ...      72\n",
       "20432  These LED strip lights are well made and work ...      67\n",
       "20440  We've never had a product like this before, bu...      63\n",
       "20442  Nice addition to the interior of any hot teens...      89\n",
       "\n",
       "[10018 rows x 2 columns]"
      ]
     },
     "execution_count": 33,
     "metadata": {},
     "output_type": "execute_result"
    }
   ],
   "source": [
    "df[(df[\"length\"]>31) & (df[\"length\"]< 99)]\n",
    "# so different products also present in reviews that are also not in the extreme length values."
   ]
  },
  {
   "attachments": {},
   "cell_type": "markdown",
   "metadata": {},
   "source": [
    "# Exporting data"
   ]
  },
  {
   "attachments": {},
   "cell_type": "markdown",
   "metadata": {},
   "source": [
    "In an easy to load format"
   ]
  },
  {
   "cell_type": "code",
   "execution_count": 38,
   "metadata": {},
   "outputs": [],
   "source": [
    "df.to_csv(data_path+\"/preprocessed.csv\")"
   ]
  },
  {
   "cell_type": "code",
   "execution_count": null,
   "metadata": {},
   "outputs": [],
   "source": []
  }
 ],
 "metadata": {
  "kernelspec": {
   "display_name": ".env",
   "language": "python",
   "name": "python3"
  },
  "language_info": {
   "codemirror_mode": {
    "name": "ipython",
    "version": 3
   },
   "file_extension": ".py",
   "mimetype": "text/x-python",
   "name": "python",
   "nbconvert_exporter": "python",
   "pygments_lexer": "ipython3",
   "version": "3.8.10"
  },
  "orig_nbformat": 4
 },
 "nbformat": 4,
 "nbformat_minor": 2
}
