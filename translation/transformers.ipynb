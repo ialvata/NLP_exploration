{
 "cells": [
  {
   "cell_type": "code",
   "execution_count": 8,
   "metadata": {},
   "outputs": [],
   "source": [
    "from datasets import load_dataset\n",
    "from transformers import pipeline"
   ]
  },
  {
   "cell_type": "code",
   "execution_count": 1,
   "metadata": {},
   "outputs": [
    {
     "name": "stderr",
     "output_type": "stream",
     "text": [
      "/home/ivo/Programming_Personal_Projects/NLP_exploration/.env_nlp_exploration/lib/python3.10/site-packages/tqdm/auto.py:21: TqdmWarning: IProgress not found. Please update jupyter and ipywidgets. See https://ipywidgets.readthedocs.io/en/stable/user_install.html\n",
      "  from .autonotebook import tqdm as notebook_tqdm\n"
     ]
    }
   ],
   "source": [
    "raw_datasets = load_dataset(\"kde4\", lang1=\"en\", lang2=\"fr\")"
   ]
  },
  {
   "cell_type": "code",
   "execution_count": 2,
   "metadata": {},
   "outputs": [
    {
     "data": {
      "text/plain": [
       "DatasetDict({\n",
       "    train: Dataset({\n",
       "        features: ['id', 'translation'],\n",
       "        num_rows: 210173\n",
       "    })\n",
       "})"
      ]
     },
     "execution_count": 2,
     "metadata": {},
     "output_type": "execute_result"
    }
   ],
   "source": [
    "raw_datasets"
   ]
  },
  {
   "cell_type": "code",
   "execution_count": 3,
   "metadata": {},
   "outputs": [
    {
     "data": {
      "text/plain": [
       "DatasetDict({\n",
       "    train: Dataset({\n",
       "        features: ['id', 'translation'],\n",
       "        num_rows: 189155\n",
       "    })\n",
       "    test: Dataset({\n",
       "        features: ['id', 'translation'],\n",
       "        num_rows: 21018\n",
       "    })\n",
       "})"
      ]
     },
     "execution_count": 3,
     "metadata": {},
     "output_type": "execute_result"
    }
   ],
   "source": [
    "split_datasets = raw_datasets[\"train\"].train_test_split(train_size=0.9, seed=20)\n",
    "split_datasets"
   ]
  },
  {
   "cell_type": "code",
   "execution_count": 5,
   "metadata": {},
   "outputs": [
    {
     "data": {
      "text/plain": [
       "DatasetDict({\n",
       "    train: Dataset({\n",
       "        features: ['id', 'translation'],\n",
       "        num_rows: 189155\n",
       "    })\n",
       "    validation: Dataset({\n",
       "        features: ['id', 'translation'],\n",
       "        num_rows: 21018\n",
       "    })\n",
       "})"
      ]
     },
     "execution_count": 5,
     "metadata": {},
     "output_type": "execute_result"
    }
   ],
   "source": [
    "split_datasets[\"validation\"] = split_datasets.pop(\"test\")\n",
    "split_datasets"
   ]
  },
  {
   "cell_type": "code",
   "execution_count": 6,
   "metadata": {},
   "outputs": [
    {
     "data": {
      "text/plain": [
       "{'en': 'Default to expanded threads',\n",
       " 'fr': 'Par défaut, développer les fils de discussion'}"
      ]
     },
     "execution_count": 6,
     "metadata": {},
     "output_type": "execute_result"
    }
   ],
   "source": [
    "split_datasets[\"train\"][1][\"translation\"]"
   ]
  },
  {
   "cell_type": "markdown",
   "metadata": {},
   "source": [
    "## Importing The Model"
   ]
  },
  {
   "cell_type": "code",
   "execution_count": 16,
   "metadata": {},
   "outputs": [
    {
     "name": "stderr",
     "output_type": "stream",
     "text": [
      "Downloading (…)lve/main/config.json: 100%|██████████| 1.42k/1.42k [00:00<00:00, 3.13MB/s]\n",
      "Downloading pytorch_model.bin: 100%|██████████| 301M/301M [00:26<00:00, 11.2MB/s] \n",
      "Downloading (…)neration_config.json: 100%|██████████| 293/293 [00:00<00:00, 572kB/s]\n",
      "Downloading (…)okenizer_config.json: 100%|██████████| 42.0/42.0 [00:00<00:00, 96.3kB/s]\n",
      "Downloading (…)olve/main/source.spm: 100%|██████████| 802k/802k [00:00<00:00, 2.18MB/s]\n",
      "Downloading (…)olve/main/target.spm: 100%|██████████| 778k/778k [00:00<00:00, 863kB/s]\n",
      "Downloading (…)olve/main/vocab.json: 100%|██████████| 1.34M/1.34M [00:00<00:00, 5.10MB/s]\n",
      "/home/ivo/Programming_Personal_Projects/NLP_exploration/.env_nlp_exploration/lib/python3.10/site-packages/transformers/models/marian/tokenization_marian.py:197: UserWarning: Recommended: pip install sacremoses.\n",
      "  warnings.warn(\"Recommended: pip install sacremoses.\")\n"
     ]
    }
   ],
   "source": [
    "model_checkpoint = \"Helsinki-NLP/opus-mt-fr-en\"\n",
    "translator = pipeline(\"translation\", model=model_checkpoint)"
   ]
  },
  {
   "cell_type": "markdown",
   "metadata": {},
   "source": [
    "## A Simple Translation"
   ]
  },
  {
   "cell_type": "code",
   "execution_count": 10,
   "metadata": {},
   "outputs": [],
   "source": [
    "french_text = \"\"\"Aujourd'hui largement répandus, les tatouages ont vu leurs significations fluctuer dans \n",
    "    l'espace et dans le temps. De l'aristocratie anglaise au «Milieu», des marins aux \n",
    "    prostituées, tatoueurs et tatoués sont des marqueurs de leur temps, à travers les motifs \n",
    "    et les pratiques. Sur nos plages et dans nos rues, lorsqu’il fait chaud, une évidence \n",
    "    s’impose, celle d’un phénomène remarquable : la présence accrue de tatouages sur la peau \n",
    "    de nos contemporains. De savantes statistiques confirment cette impression empirique, sans\n",
    "    qu’on puisse trouver facilement une explication à cette efflorescence. Elle est faite pour\n",
    "    intriguer. Donc il est tentant d’aller rechercher dans le passé ce que peuvent être les \n",
    "    origines et le développement de la pratique du tatouage. \n",
    "    Maryan Guisy s’est attaché à déchiffrer le sens profond d’un comportement aussi universel \n",
    "    qu’énigmatique. Il démontre que la marque corporelle, qui remonte à la plus haute \n",
    "    Antiquité, est un mode d’expression constant de l’humanité, depuis le fond des grottes du \n",
    "    paléolithique jusqu’aux studios des artisans du métier les plus contemporains. Ces marques\n",
    "    ont été souvent imposées par une communauté, que ce soit pour affirmer une appartenance, \n",
    "    pour signifier une servitude ou pour perpétuer une punition. L’empreinte du fer rouge sur \n",
    "    l’épaule de Milady, dans les Trois mousquetaires, flambe encore dans nos mémoires. \n",
    "    Mais les tatouages ont été aussi, de longue date, choisis librement par ceux et par \n",
    "    celles qui se les ont imprimés sur leur corps. Il s’est agi alors d’affirmer des \n",
    "    solidarités, corporatives, militaires ou de brigandage, propres à protéger l’individu \n",
    "    isolé contre les périls qui le menaceraient ou à l’inclure au cœur de bonheurs festifs \n",
    "    partagés. Et on n’oubliera pas d’évoquer la valeur de talisman que peuvent prendre, dans \n",
    "    une ambiance mystique, ces inscriptions délibérées sur la peau. Rien de simple, en somme, \n",
    "    mais vous connaissez le mantra des historiens : \"c’est plus compliqué que vous ne le \n",
    "    pensiez\".\"\"\""
   ]
  },
  {
   "cell_type": "code",
   "execution_count": 11,
   "metadata": {},
   "outputs": [],
   "source": [
    "splitted_french_text = french_text.split(\".\")"
   ]
  },
  {
   "cell_type": "code",
   "execution_count": 42,
   "metadata": {},
   "outputs": [
    {
     "data": {
      "text/plain": [
       "[\"Aujourd'hui largement répandus, les tatouages ont vu leurs significations fluctuer dans \\n    l'espace et dans le temps\",\n",
       " \" De l'aristocratie anglaise au «Milieu», des marins aux \\n    prostituées, tatoueurs et tatoués sont des marqueurs de leur temps, à travers les motifs \\n    et les pratiques\",\n",
       " ' Sur nos plages et dans nos rues, lorsqu’il fait chaud, une évidence \\n    s’impose, celle d’un phénomène remarquable : la présence accrue de tatouages sur la peau \\n    de nos contemporains',\n",
       " ' De savantes statistiques confirment cette impression empirique, sans\\n    qu’on puisse trouver facilement une explication à cette efflorescence',\n",
       " ' Elle est faite pour\\n    intriguer',\n",
       " ' Donc il est tentant d’aller rechercher dans le passé ce que peuvent être les \\n    origines et le développement de la pratique du tatouage',\n",
       " ' \\n    Maryan Guisy s’est attaché à déchiffrer le sens profond d’un comportement aussi universel \\n    qu’énigmatique',\n",
       " ' Il démontre que la marque corporelle, qui remonte à la plus haute \\n    Antiquité, est un mode d’expression constant de l’humanité, depuis le fond des grottes du \\n    paléolithique jusqu’aux studios des artisans du métier les plus contemporains',\n",
       " ' Ces marques\\n    ont été souvent imposées par une communauté, que ce soit pour affirmer une appartenance, \\n    pour signifier une servitude ou pour perpétuer une punition',\n",
       " ' L’empreinte du fer rouge sur \\n    l’épaule de Milady, dans les Trois mousquetaires, flambe encore dans nos mémoires',\n",
       " ' \\n    Mais les tatouages ont été aussi, de longue date, choisis librement par ceux et par \\n    celles qui se les ont imprimés sur leur corps',\n",
       " ' Il s’est agi alors d’affirmer des \\n    solidarités, corporatives, militaires ou de brigandage, propres à protéger l’individu \\n    isolé contre les périls qui le menaceraient ou à l’inclure au cœur de bonheurs festifs \\n    partagés',\n",
       " ' Et on n’oubliera pas d’évoquer la valeur de talisman que peuvent prendre, dans \\n    une ambiance mystique, ces inscriptions délibérées sur la peau',\n",
       " ' Rien de simple, en somme, \\n    mais vous connaissez le mantra des historiens : \"c’est plus compliqué que vous ne le \\n    pensiez\"',\n",
       " '']"
      ]
     },
     "execution_count": 42,
     "metadata": {},
     "output_type": "execute_result"
    }
   ],
   "source": [
    "splitted_french_text"
   ]
  },
  {
   "cell_type": "code",
   "execution_count": 34,
   "metadata": {},
   "outputs": [
    {
     "data": {
      "text/plain": [
       "[True,\n",
       " True,\n",
       " True,\n",
       " True,\n",
       " True,\n",
       " True,\n",
       " True,\n",
       " True,\n",
       " True,\n",
       " True,\n",
       " True,\n",
       " True,\n",
       " True,\n",
       " True,\n",
       " False]"
      ]
     },
     "execution_count": 34,
     "metadata": {},
     "output_type": "execute_result"
    }
   ],
   "source": [
    "paragraphs = [ True if sentence.find(\"\\n\")!=-1 else False \n",
    "              for sentence in splitted_french_text ]"
   ]
  },
  {
   "cell_type": "code",
   "execution_count": 39,
   "metadata": {},
   "outputs": [],
   "source": [
    "translated_text = translator(splitted_french_text)\n",
    "translated_text = [text[\"translation_text\"] for text in translated_text]"
   ]
  },
  {
   "cell_type": "code",
   "execution_count": 40,
   "metadata": {},
   "outputs": [],
   "source": [
    "translated_text = [sentence+\".\\n\" for (sentence,paragraph) in zip(translated_text,paragraphs)\n",
    "                   if paragraph]\n",
    "translated_text = \"\".join(translated_text).replace(\"..\",\".\")"
   ]
  },
  {
   "cell_type": "code",
   "execution_count": 43,
   "metadata": {},
   "outputs": [
    {
     "name": "stdout",
     "output_type": "stream",
     "text": [
      "Today widely distributed, tattoos have seen their meanings fluctuate in space and time.\n",
      "From the English aristocracy to the \"Milieu\", sailors to prostitutes, tattooers and tattoos are markers of their time, through patterns and practices.\n",
      "On our beaches and in our streets, when it's hot, there's evidence of a remarkable phenomenon: the increased presence of tattoos on the skin of our contemporaries.\n",
      "Scientists confirm this empirical impression, without an easy explanation for this efflorescence.\n",
      "It's made to intrigue.\n",
      "So it's tempting to go look in the past what the origins and the development of tattoo practice can be.\n",
      "Maryan Guisy is committed to deciphering the deep meaning of such universal and enigmatic behaviour.\n",
      "It shows that the body brand, which dates back to the highest antiquity, is a constant way of expressing humanity, from the bottom of the caves of Paleolithic to the studios of the most contemporary artisans.\n",
      "These marks have often been imposed by a community, whether to assert belonging, to signify servitude or to perpetuate punishment.\n",
      "The print of the red iron on Milady's shoulder, in the Three Musketeers, blazes still in our memories.\n",
      "But tattoos have also been, for a long time, freely chosen by those who have printed them on their bodies.\n",
      "It was then a matter of asserting solidarity, corporate, military or banditry, so as to protect the individual isolated from the perils that would threaten him or to include him at the heart of shared festive happiness.\n",
      "And one will not forget the value of talisman that can take, in a mystical atmosphere, these deliberate inscriptions on the skin.\n",
      "Nothing simple, in short, but you know the mantra of historians: \"It's more complicated than you thought\".\n",
      "\n"
     ]
    }
   ],
   "source": [
    "print(translated_text)"
   ]
  },
  {
   "cell_type": "markdown",
   "metadata": {},
   "source": [
    "## Fine-Tunning The Model"
   ]
  },
  {
   "cell_type": "markdown",
   "metadata": {},
   "source": [
    "### TBD"
   ]
  }
 ],
 "metadata": {
  "kernelspec": {
   "display_name": ".env_nlp_exploration",
   "language": "python",
   "name": "python3"
  },
  "language_info": {
   "codemirror_mode": {
    "name": "ipython",
    "version": 3
   },
   "file_extension": ".py",
   "mimetype": "text/x-python",
   "name": "python",
   "nbconvert_exporter": "python",
   "pygments_lexer": "ipython3",
   "version": "3.10.12"
  }
 },
 "nbformat": 4,
 "nbformat_minor": 2
}
