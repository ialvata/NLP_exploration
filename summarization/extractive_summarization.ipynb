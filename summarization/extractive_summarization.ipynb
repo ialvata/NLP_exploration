{
 "cells": [
  {
   "attachments": {},
   "cell_type": "markdown",
   "metadata": {},
   "source": [
    "In this notebook, we use an extractive algorithm (PageRank) to summarize the reviews associated to a cluster we used in the LDA notebook."
   ]
  },
  {
   "cell_type": "code",
   "execution_count": 1,
   "metadata": {},
   "outputs": [
    {
     "name": "stderr",
     "output_type": "stream",
     "text": [
      "[nltk_data] Downloading package punkt to /home/ivo/nltk_data...\n",
      "[nltk_data]   Package punkt is already up-to-date!\n"
     ]
    },
    {
     "data": {
      "text/plain": [
       "True"
      ]
     },
     "execution_count": 1,
     "metadata": {},
     "output_type": "execute_result"
    }
   ],
   "source": [
    "import pandas as pd\n",
    "import nltk\n",
    "import numpy as np\n",
    "from sklearn.feature_extraction.text import CountVectorizer\n",
    "from sklearn.metrics.pairwise import cosine_similarity\n",
    "import networkx as nx\n",
    "\n",
    "nltk.download(\"punkt\")"
   ]
  },
  {
   "cell_type": "code",
   "execution_count": 2,
   "metadata": {},
   "outputs": [],
   "source": [
    "df = pd.read_csv(\"../data/clusterized_dataframe.csv\")"
   ]
  },
  {
   "cell_type": "code",
   "execution_count": 3,
   "metadata": {},
   "outputs": [],
   "source": [
    "cluster = df[df[\"cluster_num\"]==5]"
   ]
  },
  {
   "cell_type": "code",
   "execution_count": 4,
   "metadata": {},
   "outputs": [],
   "source": [
    "cluster_reviews_joined = \" \".join(cluster[\"Reviews\"])\n",
    "# some reviews may contain important sentences.\n",
    "sentences = cluster_reviews_joined.split(\".\")\n",
    "# we could also have used the embeddings created by sentence transformers, instead of\n",
    "# CountVectorizer.\n",
    "vectorizer = CountVectorizer(stop_words=\"english\")\n",
    "sentence_vectors = vectorizer.fit_transform(cluster[\"Reviews\"])\n",
    "similarity_matrix = cosine_similarity(sentence_vectors)"
   ]
  },
  {
   "cell_type": "code",
   "execution_count": 5,
   "metadata": {},
   "outputs": [],
   "source": [
    "graph = nx.from_numpy_array(similarity_matrix)"
   ]
  },
  {
   "cell_type": "code",
   "execution_count": 6,
   "metadata": {},
   "outputs": [],
   "source": [
    "scores = nx.pagerank(graph)"
   ]
  },
  {
   "cell_type": "code",
   "execution_count": 7,
   "metadata": {},
   "outputs": [],
   "source": [
    "num_sentences = 5\n",
    "top_sentence_indices = sorted(\n",
    "    range(len(scores)), \n",
    "    key=lambda i: scores[i], \n",
    "    reverse=True\n",
    ")[:num_sentences]\n",
    "\n",
    "summary = [sentences[i] for i in top_sentence_indices]"
   ]
  },
  {
   "cell_type": "code",
   "execution_count": 8,
   "metadata": {},
   "outputs": [
    {
     "data": {
      "text/plain": [
       "[' This oil is great, and keeps my car running happy',\n",
       " ' These are great, everyone should have them in the toolbox',\n",
       " ' Great, versatile oil filter',\n",
       " ' I hope I can easily get the filter off to do my own changes',\n",
       " \"  It works only to loosen, not to tighten - and of course you'd never want to tighten an oil filter with a tool anyway\"]"
      ]
     },
     "execution_count": 8,
     "metadata": {},
     "output_type": "execute_result"
    }
   ],
   "source": [
    "summary"
   ]
  },
  {
   "attachments": {},
   "cell_type": "markdown",
   "metadata": {},
   "source": [
    "It seems in this cluster we have reviews for an oil filter, and for a brand of oil, and also for something to tighten an oil filter.\n",
    "The general sentiment seems to be positive."
   ]
  }
 ],
 "metadata": {
  "kernelspec": {
   "display_name": ".env",
   "language": "python",
   "name": "python3"
  },
  "language_info": {
   "codemirror_mode": {
    "name": "ipython",
    "version": 3
   },
   "file_extension": ".py",
   "mimetype": "text/x-python",
   "name": "python",
   "nbconvert_exporter": "python",
   "pygments_lexer": "ipython3",
   "version": "3.10.6"
  },
  "orig_nbformat": 4
 },
 "nbformat": 4,
 "nbformat_minor": 2
}
