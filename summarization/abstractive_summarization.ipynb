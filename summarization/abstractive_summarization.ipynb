{
 "cells": [
  {
   "attachments": {},
   "cell_type": "markdown",
   "metadata": {},
   "source": [
    "In this notebook, we do a simple summarization task.\n",
    "The models used here, which include generative abilities, have a maximum amount of tokens allowed as input."
   ]
  },
  {
   "cell_type": "code",
   "execution_count": 51,
   "metadata": {},
   "outputs": [],
   "source": [
    "import pandas as pd\n",
    "from transformers import AutoTokenizer\n",
    "from transformers import AutoModelForSeq2SeqLM"
   ]
  },
  {
   "cell_type": "code",
   "execution_count": 52,
   "metadata": {},
   "outputs": [],
   "source": [
    "df = pd.read_csv(\"../data/clusterized_dataframe.csv\")"
   ]
  },
  {
   "cell_type": "code",
   "execution_count": 53,
   "metadata": {},
   "outputs": [],
   "source": [
    "checkpoint = \"facebook/bart-large-cnn\"\n",
    "tokenizer = AutoTokenizer.from_pretrained(checkpoint)"
   ]
  },
  {
   "cell_type": "code",
   "execution_count": 54,
   "metadata": {},
   "outputs": [],
   "source": [
    "cluster = df[df[\"cluster_num\"]==5]"
   ]
  },
  {
   "cell_type": "code",
   "execution_count": 57,
   "metadata": {},
   "outputs": [],
   "source": [
    "prefix = \"summarize: \"\n",
    "cluster_reviews_joined = \". \".join(cluster[\"Reviews\"])\n",
    "# tried with other feature engineering functions, but summary results were all very similar in tone. \n",
    "# All positive, but with less intelligible output.\n",
    "doc = prefix + cluster_reviews_joined\n",
    "inputs = tokenizer(doc, return_tensors=\"pt\", max_length=1024, truncation=True).input_ids"
   ]
  },
  {
   "cell_type": "code",
   "execution_count": 60,
   "metadata": {},
   "outputs": [],
   "source": [
    "model = AutoModelForSeq2SeqLM.from_pretrained(checkpoint)\n",
    "outputs = model.generate(inputs, max_new_tokens=100, do_sample=False)\n",
    "# takes 13s"
   ]
  },
  {
   "cell_type": "code",
   "execution_count": 59,
   "metadata": {},
   "outputs": [
    {
     "name": "stdout",
     "output_type": "stream",
     "text": [
      "This is the best solution I've used for an all-in-one oil filter wrench (although you actually need 2 to cover the majority of sizes) It works only to loosen, not to tighten - and of course you'd never want to tighten an oil filter with a tool anyway.Note that this is listed on Amazon at least twice, and one is priced almost three times as much as the other.\n"
     ]
    }
   ],
   "source": [
    "print(tokenizer.decode(outputs[0], skip_special_tokens=True))"
   ]
  },
  {
   "attachments": {},
   "cell_type": "markdown",
   "metadata": {},
   "source": [
    "Output: \"This is the best solution I've used for an all-in-one oil filter wrench (although you actually need 2 to cover the majority of sizes) It works only to loosen, not to tighten - and of course you'd never want to tighten an oil filter with a tool anyway.Note that this is listed on Amazon at least twice, and one is priced almost three times as much as the other.\""
   ]
  },
  {
   "attachments": {},
   "cell_type": "markdown",
   "metadata": {},
   "source": [
    "One technique that we could use to overcome the max token limitation is to do summaries of each review, and then make a general summary of all the intermediate smaller summaries. \n",
    "We could also instead do an extractive summarization, which does not suffer from this limitation."
   ]
  }
 ],
 "metadata": {
  "kernelspec": {
   "display_name": ".env",
   "language": "python",
   "name": "python3"
  },
  "language_info": {
   "codemirror_mode": {
    "name": "ipython",
    "version": 3
   },
   "file_extension": ".py",
   "mimetype": "text/x-python",
   "name": "python",
   "nbconvert_exporter": "python",
   "pygments_lexer": "ipython3",
   "version": "3.10.6"
  },
  "orig_nbformat": 4
 },
 "nbformat": 4,
 "nbformat_minor": 2
}
